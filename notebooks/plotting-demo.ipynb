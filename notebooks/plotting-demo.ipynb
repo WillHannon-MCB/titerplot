{
 "cells": [
  {
   "cell_type": "markdown",
   "metadata": {},
   "source": [
    "# Plotting with `titerplot`\n",
    "\n",
    "`titerplot` is a simple Python module for plotting viral titers from experiments with a factorial or combinitorial design. The key output of `titerplot` is an [`Altair`](https://altair-viz.github.io/) \"strip plot\" of titers where the x-axis is replaced with an experimental design matrix. This notebook demonstrates the plotting capabilities of `titerplot`."
   ]
  },
  {
   "cell_type": "markdown",
   "metadata": {},
   "source": [
    "## Installing"
   ]
  },
  {
   "cell_type": "code",
   "execution_count": 1,
   "metadata": {},
   "outputs": [],
   "source": [
    "import pandas as pd\n",
    "from src.titerplot.plotting import plot_titers"
   ]
  },
  {
   "cell_type": "markdown",
   "metadata": {},
   "source": [
    "Or, if you've installed `titerplot` with `pip`:\n",
    "```python\n",
    "from titerplot import plot_titers\n",
    "```"
   ]
  },
  {
   "cell_type": "markdown",
   "metadata": {},
   "source": [
    "## Data\n",
    "\n",
    "The idealized input data to `plot_titers()` looks like this:"
   ]
  },
  {
   "cell_type": "code",
   "execution_count": 3,
   "metadata": {},
   "outputs": [
    {
     "data": {
      "text/html": [
       "<div>\n",
       "<style scoped>\n",
       "    .dataframe tbody tr th:only-of-type {\n",
       "        vertical-align: middle;\n",
       "    }\n",
       "\n",
       "    .dataframe tbody tr th {\n",
       "        vertical-align: top;\n",
       "    }\n",
       "\n",
       "    .dataframe thead th {\n",
       "        text-align: right;\n",
       "    }\n",
       "</style>\n",
       "<table border=\"1\" class=\"dataframe\">\n",
       "  <thead>\n",
       "    <tr style=\"text-align: right;\">\n",
       "      <th></th>\n",
       "      <th>Titer</th>\n",
       "      <th>Virus</th>\n",
       "      <th>Facet</th>\n",
       "      <th>Condition_A</th>\n",
       "      <th>Condition_B</th>\n",
       "      <th>Condition_C</th>\n",
       "      <th>Condition_D</th>\n",
       "    </tr>\n",
       "  </thead>\n",
       "  <tbody>\n",
       "    <tr>\n",
       "      <th>0</th>\n",
       "      <td>1000</td>\n",
       "      <td>Virus A</td>\n",
       "      <td>Facet A</td>\n",
       "      <td>+</td>\n",
       "      <td>-</td>\n",
       "      <td>-</td>\n",
       "      <td>-</td>\n",
       "    </tr>\n",
       "    <tr>\n",
       "      <th>1</th>\n",
       "      <td>10000</td>\n",
       "      <td>Virus A</td>\n",
       "      <td>Facet A</td>\n",
       "      <td>+</td>\n",
       "      <td>+</td>\n",
       "      <td>-</td>\n",
       "      <td>-</td>\n",
       "    </tr>\n",
       "    <tr>\n",
       "      <th>2</th>\n",
       "      <td>100000</td>\n",
       "      <td>Virus A</td>\n",
       "      <td>Facet A</td>\n",
       "      <td>+</td>\n",
       "      <td>+</td>\n",
       "      <td>-</td>\n",
       "      <td>+</td>\n",
       "    </tr>\n",
       "    <tr>\n",
       "      <th>3</th>\n",
       "      <td>500000</td>\n",
       "      <td>Virus A</td>\n",
       "      <td>Facet A</td>\n",
       "      <td>+</td>\n",
       "      <td>+</td>\n",
       "      <td>+</td>\n",
       "      <td>-</td>\n",
       "    </tr>\n",
       "    <tr>\n",
       "      <th>4</th>\n",
       "      <td>500</td>\n",
       "      <td>Virus B</td>\n",
       "      <td>Facet A</td>\n",
       "      <td>+</td>\n",
       "      <td>-</td>\n",
       "      <td>-</td>\n",
       "      <td>-</td>\n",
       "    </tr>\n",
       "  </tbody>\n",
       "</table>\n",
       "</div>"
      ],
      "text/plain": [
       "    Titer    Virus    Facet Condition_A Condition_B Condition_C Condition_D\n",
       "0    1000  Virus A  Facet A           +           -           -           -\n",
       "1   10000  Virus A  Facet A           +           +           -           -\n",
       "2  100000  Virus A  Facet A           +           +           -           +\n",
       "3  500000  Virus A  Facet A           +           +           +           -\n",
       "4     500  Virus B  Facet A           +           -           -           -"
      ]
     },
     "execution_count": 3,
     "metadata": {},
     "output_type": "execute_result"
    }
   ],
   "source": [
    "data = pd.read_csv(\"data/dummy_titers.csv\")\n",
    "data.head()"
   ]
  },
  {
   "cell_type": "markdown",
   "metadata": {},
   "source": [
    "Each condition in the experimental design is a column (`Condition_A`, `Condition_B`, ...). Conditions tested (`+`) or not tested (`-`) produce a given titer value (`Titer`). Condition columns and their values (`+` or `-`) will populate the experimental design matrix on the plots x-axis."
   ]
  },
  {
   "cell_type": "markdown",
   "metadata": {},
   "source": [
    "## Usage\n",
    "\n",
    "The function `plot_titers()` produces a strip plot of titers with an experimental design matrix for the x-axis. Here's an example with the idealized dummy data:"
   ]
  },
  {
   "cell_type": "code",
   "execution_count": 4,
   "metadata": {},
   "outputs": [
    {
     "data": {
      "text/html": [
       "\n",
       "<style>\n",
       "  #altair-viz-03d5e0809bf74792ae2aefce00fcd18b.vega-embed {\n",
       "    width: 100%;\n",
       "    display: flex;\n",
       "  }\n",
       "\n",
       "  #altair-viz-03d5e0809bf74792ae2aefce00fcd18b.vega-embed details,\n",
       "  #altair-viz-03d5e0809bf74792ae2aefce00fcd18b.vega-embed details summary {\n",
       "    position: relative;\n",
       "  }\n",
       "</style>\n",
       "<div id=\"altair-viz-03d5e0809bf74792ae2aefce00fcd18b\"></div>\n",
       "<script type=\"text/javascript\">\n",
       "  var VEGA_DEBUG = (typeof VEGA_DEBUG == \"undefined\") ? {} : VEGA_DEBUG;\n",
       "  (function(spec, embedOpt){\n",
       "    let outputDiv = document.currentScript.previousElementSibling;\n",
       "    if (outputDiv.id !== \"altair-viz-03d5e0809bf74792ae2aefce00fcd18b\") {\n",
       "      outputDiv = document.getElementById(\"altair-viz-03d5e0809bf74792ae2aefce00fcd18b\");\n",
       "    }\n",
       "\n",
       "    const paths = {\n",
       "      \"vega\": \"https://cdn.jsdelivr.net/npm/vega@5?noext\",\n",
       "      \"vega-lib\": \"https://cdn.jsdelivr.net/npm/vega-lib?noext\",\n",
       "      \"vega-lite\": \"https://cdn.jsdelivr.net/npm/vega-lite@5.20.1?noext\",\n",
       "      \"vega-embed\": \"https://cdn.jsdelivr.net/npm/vega-embed@6?noext\",\n",
       "    };\n",
       "\n",
       "    function maybeLoadScript(lib, version) {\n",
       "      var key = `${lib.replace(\"-\", \"\")}_version`;\n",
       "      return (VEGA_DEBUG[key] == version) ?\n",
       "        Promise.resolve(paths[lib]) :\n",
       "        new Promise(function(resolve, reject) {\n",
       "          var s = document.createElement('script');\n",
       "          document.getElementsByTagName(\"head\")[0].appendChild(s);\n",
       "          s.async = true;\n",
       "          s.onload = () => {\n",
       "            VEGA_DEBUG[key] = version;\n",
       "            return resolve(paths[lib]);\n",
       "          };\n",
       "          s.onerror = () => reject(`Error loading script: ${paths[lib]}`);\n",
       "          s.src = paths[lib];\n",
       "        });\n",
       "    }\n",
       "\n",
       "    function showError(err) {\n",
       "      outputDiv.innerHTML = `<div class=\"error\" style=\"color:red;\">${err}</div>`;\n",
       "      throw err;\n",
       "    }\n",
       "\n",
       "    function displayChart(vegaEmbed) {\n",
       "      vegaEmbed(outputDiv, spec, embedOpt)\n",
       "        .catch(err => showError(`Javascript Error: ${err.message}<br>This usually means there's a typo in your chart specification. See the javascript console for the full traceback.`));\n",
       "    }\n",
       "\n",
       "    if(typeof define === \"function\" && define.amd) {\n",
       "      requirejs.config({paths});\n",
       "      let deps = [\"vega-embed\"];\n",
       "      require(deps, displayChart, err => showError(`Error loading script: ${err.message}`));\n",
       "    } else {\n",
       "      maybeLoadScript(\"vega\", \"5\")\n",
       "        .then(() => maybeLoadScript(\"vega-lite\", \"5.20.1\"))\n",
       "        .then(() => maybeLoadScript(\"vega-embed\", \"6\"))\n",
       "        .catch(showError)\n",
       "        .then(() => displayChart(vegaEmbed));\n",
       "    }\n",
       "  })({\"config\": {\"view\": {\"continuousWidth\": 300, \"continuousHeight\": 300}}, \"vconcat\": [{\"mark\": {\"type\": \"point\", \"filled\": true, \"size\": 100}, \"encoding\": {\"color\": {\"field\": \"Virus\", \"legend\": {\"title\": \"Virus\"}, \"type\": \"nominal\"}, \"column\": {\"field\": \"Facet\", \"header\": {\"labels\": true, \"title\": null}, \"type\": \"nominal\"}, \"tooltip\": [{\"field\": \"Titer\", \"type\": \"quantitative\"}, {\"field\": \"Virus\", \"type\": \"nominal\"}, {\"field\": \"Facet\", \"type\": \"nominal\"}, {\"field\": \"Condition_A\", \"type\": \"nominal\"}, {\"field\": \"Condition_B\", \"type\": \"nominal\"}, {\"field\": \"Condition_C\", \"type\": \"nominal\"}, {\"field\": \"Condition_D\", \"type\": \"nominal\"}], \"x\": {\"axis\": {\"domain\": false, \"grid\": false, \"labels\": false, \"ticks\": true, \"title\": null}, \"field\": \"ID\", \"type\": \"nominal\"}, \"y\": {\"field\": \"Titer\", \"scale\": {\"type\": \"log\"}, \"title\": \"Titer (IU/ml)\", \"type\": \"quantitative\"}}, \"width\": 300}, {\"mark\": {\"type\": \"text\", \"size\": 15}, \"encoding\": {\"column\": {\"field\": \"Facet\", \"header\": {\"labels\": false, \"title\": null}, \"type\": \"nominal\"}, \"text\": {\"field\": \"Text\", \"type\": \"nominal\"}, \"x\": {\"axis\": null, \"field\": \"ID\", \"type\": \"nominal\"}, \"y\": {\"axis\": {\"domain\": false, \"grid\": false, \"ticks\": false, \"title\": null}, \"field\": \"Condition\", \"type\": \"nominal\"}}, \"transform\": [{\"fold\": [\"Condition_A\", \"Condition_B\", \"Condition_C\", \"Condition_D\"], \"as\": [\"Condition\", \"Text\"]}], \"view\": {\"strokeWidth\": 1e-05}, \"width\": 300}], \"data\": {\"name\": \"data-48e68cca907ae27f3539e429469ea545\"}, \"spacing\": 0, \"title\": \"\", \"$schema\": \"https://vega.github.io/schema/vega-lite/v5.20.1.json\", \"datasets\": {\"data-48e68cca907ae27f3539e429469ea545\": [{\"Titer\": 1000, \"Virus\": \"Virus A\", \"Facet\": \"Facet A\", \"Condition_A\": \"+\", \"Condition_B\": \"-\", \"Condition_C\": \"-\", \"Condition_D\": \"-\", \"ID\": \"A\"}, {\"Titer\": 10000, \"Virus\": \"Virus A\", \"Facet\": \"Facet A\", \"Condition_A\": \"+\", \"Condition_B\": \"+\", \"Condition_C\": \"-\", \"Condition_D\": \"-\", \"ID\": \"A_B\"}, {\"Titer\": 100000, \"Virus\": \"Virus A\", \"Facet\": \"Facet A\", \"Condition_A\": \"+\", \"Condition_B\": \"+\", \"Condition_C\": \"-\", \"Condition_D\": \"+\", \"ID\": \"A_B_D\"}, {\"Titer\": 500000, \"Virus\": \"Virus A\", \"Facet\": \"Facet A\", \"Condition_A\": \"+\", \"Condition_B\": \"+\", \"Condition_C\": \"+\", \"Condition_D\": \"-\", \"ID\": \"A_B_C\"}, {\"Titer\": 500, \"Virus\": \"Virus B\", \"Facet\": \"Facet A\", \"Condition_A\": \"+\", \"Condition_B\": \"-\", \"Condition_C\": \"-\", \"Condition_D\": \"-\", \"ID\": \"A\"}, {\"Titer\": 15000, \"Virus\": \"Virus B\", \"Facet\": \"Facet A\", \"Condition_A\": \"+\", \"Condition_B\": \"+\", \"Condition_C\": \"-\", \"Condition_D\": \"-\", \"ID\": \"A_B\"}, {\"Titer\": 150000, \"Virus\": \"Virus B\", \"Facet\": \"Facet A\", \"Condition_A\": \"+\", \"Condition_B\": \"+\", \"Condition_C\": \"-\", \"Condition_D\": \"+\", \"ID\": \"A_B_D\"}, {\"Titer\": 1000000, \"Virus\": \"Virus B\", \"Facet\": \"Facet A\", \"Condition_A\": \"+\", \"Condition_B\": \"+\", \"Condition_C\": \"+\", \"Condition_D\": \"-\", \"ID\": \"A_B_C\"}, {\"Titer\": 700, \"Virus\": \"Virus C\", \"Facet\": \"Facet A\", \"Condition_A\": \"+\", \"Condition_B\": \"-\", \"Condition_C\": \"-\", \"Condition_D\": \"-\", \"ID\": \"A\"}, {\"Titer\": 5000, \"Virus\": \"Virus C\", \"Facet\": \"Facet A\", \"Condition_A\": \"+\", \"Condition_B\": \"+\", \"Condition_C\": \"-\", \"Condition_D\": \"-\", \"ID\": \"A_B\"}, {\"Titer\": 300000, \"Virus\": \"Virus C\", \"Facet\": \"Facet A\", \"Condition_A\": \"+\", \"Condition_B\": \"+\", \"Condition_C\": \"-\", \"Condition_D\": \"+\", \"ID\": \"A_B_D\"}, {\"Titer\": 100000, \"Virus\": \"Virus C\", \"Facet\": \"Facet A\", \"Condition_A\": \"+\", \"Condition_B\": \"+\", \"Condition_C\": \"+\", \"Condition_D\": \"-\", \"ID\": \"A_B_C\"}, {\"Titer\": 1750, \"Virus\": \"Virus A\", \"Facet\": \"Facet B\", \"Condition_A\": \"+\", \"Condition_B\": \"-\", \"Condition_C\": \"-\", \"Condition_D\": \"-\", \"ID\": \"A\"}, {\"Titer\": 9500, \"Virus\": \"Virus A\", \"Facet\": \"Facet B\", \"Condition_A\": \"+\", \"Condition_B\": \"+\", \"Condition_C\": \"-\", \"Condition_D\": \"-\", \"ID\": \"A_B\"}, {\"Titer\": 123000, \"Virus\": \"Virus A\", \"Facet\": \"Facet B\", \"Condition_A\": \"+\", \"Condition_B\": \"+\", \"Condition_C\": \"-\", \"Condition_D\": \"+\", \"ID\": \"A_B_D\"}, {\"Titer\": 200000, \"Virus\": \"Virus A\", \"Facet\": \"Facet B\", \"Condition_A\": \"+\", \"Condition_B\": \"+\", \"Condition_C\": \"+\", \"Condition_D\": \"-\", \"ID\": \"A_B_C\"}, {\"Titer\": 640, \"Virus\": \"Virus B\", \"Facet\": \"Facet B\", \"Condition_A\": \"+\", \"Condition_B\": \"-\", \"Condition_C\": \"-\", \"Condition_D\": \"-\", \"ID\": \"A\"}, {\"Titer\": 9000, \"Virus\": \"Virus B\", \"Facet\": \"Facet B\", \"Condition_A\": \"+\", \"Condition_B\": \"+\", \"Condition_C\": \"-\", \"Condition_D\": \"-\", \"ID\": \"A_B\"}, {\"Titer\": 320000, \"Virus\": \"Virus B\", \"Facet\": \"Facet B\", \"Condition_A\": \"+\", \"Condition_B\": \"+\", \"Condition_C\": \"-\", \"Condition_D\": \"+\", \"ID\": \"A_B_D\"}, {\"Titer\": 1700000, \"Virus\": \"Virus B\", \"Facet\": \"Facet B\", \"Condition_A\": \"+\", \"Condition_B\": \"+\", \"Condition_C\": \"+\", \"Condition_D\": \"-\", \"ID\": \"A_B_C\"}, {\"Titer\": 200, \"Virus\": \"Virus C\", \"Facet\": \"Facet B\", \"Condition_A\": \"+\", \"Condition_B\": \"-\", \"Condition_C\": \"-\", \"Condition_D\": \"-\", \"ID\": \"A\"}, {\"Titer\": 9500, \"Virus\": \"Virus C\", \"Facet\": \"Facet B\", \"Condition_A\": \"+\", \"Condition_B\": \"+\", \"Condition_C\": \"-\", \"Condition_D\": \"-\", \"ID\": \"A_B\"}, {\"Titer\": 305000, \"Virus\": \"Virus C\", \"Facet\": \"Facet B\", \"Condition_A\": \"+\", \"Condition_B\": \"+\", \"Condition_C\": \"-\", \"Condition_D\": \"+\", \"ID\": \"A_B_D\"}, {\"Titer\": 130000, \"Virus\": \"Virus C\", \"Facet\": \"Facet B\", \"Condition_A\": \"+\", \"Condition_B\": \"+\", \"Condition_C\": \"+\", \"Condition_D\": \"-\", \"ID\": \"A_B_C\"}, {\"Titer\": 550, \"Virus\": \"Virus A\", \"Facet\": \"Facet C\", \"Condition_A\": \"+\", \"Condition_B\": \"-\", \"Condition_C\": \"-\", \"Condition_D\": \"-\", \"ID\": \"A\"}, {\"Titer\": 9500, \"Virus\": \"Virus A\", \"Facet\": \"Facet C\", \"Condition_A\": \"+\", \"Condition_B\": \"+\", \"Condition_C\": \"-\", \"Condition_D\": \"-\", \"ID\": \"A_B\"}, {\"Titer\": 120000, \"Virus\": \"Virus A\", \"Facet\": \"Facet C\", \"Condition_A\": \"+\", \"Condition_B\": \"+\", \"Condition_C\": \"-\", \"Condition_D\": \"+\", \"ID\": \"A_B_D\"}, {\"Titer\": 400000, \"Virus\": \"Virus A\", \"Facet\": \"Facet C\", \"Condition_A\": \"+\", \"Condition_B\": \"+\", \"Condition_C\": \"+\", \"Condition_D\": \"-\", \"ID\": \"A_B_C\"}, {\"Titer\": 600, \"Virus\": \"Virus B\", \"Facet\": \"Facet C\", \"Condition_A\": \"+\", \"Condition_B\": \"-\", \"Condition_C\": \"-\", \"Condition_D\": \"-\", \"ID\": \"A\"}, {\"Titer\": 18000, \"Virus\": \"Virus B\", \"Facet\": \"Facet C\", \"Condition_A\": \"+\", \"Condition_B\": \"+\", \"Condition_C\": \"-\", \"Condition_D\": \"-\", \"ID\": \"A_B\"}, {\"Titer\": 200000, \"Virus\": \"Virus B\", \"Facet\": \"Facet C\", \"Condition_A\": \"+\", \"Condition_B\": \"+\", \"Condition_C\": \"-\", \"Condition_D\": \"+\", \"ID\": \"A_B_D\"}, {\"Titer\": 1300000, \"Virus\": \"Virus B\", \"Facet\": \"Facet C\", \"Condition_A\": \"+\", \"Condition_B\": \"+\", \"Condition_C\": \"+\", \"Condition_D\": \"-\", \"ID\": \"A_B_C\"}, {\"Titer\": 400, \"Virus\": \"Virus C\", \"Facet\": \"Facet C\", \"Condition_A\": \"+\", \"Condition_B\": \"-\", \"Condition_C\": \"-\", \"Condition_D\": \"-\", \"ID\": \"A\"}, {\"Titer\": 5500, \"Virus\": \"Virus C\", \"Facet\": \"Facet C\", \"Condition_A\": \"+\", \"Condition_B\": \"+\", \"Condition_C\": \"-\", \"Condition_D\": \"-\", \"ID\": \"A_B\"}, {\"Titer\": 305000, \"Virus\": \"Virus C\", \"Facet\": \"Facet C\", \"Condition_A\": \"+\", \"Condition_B\": \"+\", \"Condition_C\": \"-\", \"Condition_D\": \"+\", \"ID\": \"A_B_D\"}, {\"Titer\": 130000, \"Virus\": \"Virus C\", \"Facet\": \"Facet C\", \"Condition_A\": \"+\", \"Condition_B\": \"+\", \"Condition_C\": \"+\", \"Condition_D\": \"-\", \"ID\": \"A_B_C\"}]}}, {\"mode\": \"vega-lite\"});\n",
       "</script>"
      ],
      "text/plain": [
       "alt.VConcatChart(...)"
      ]
     },
     "execution_count": 4,
     "metadata": {},
     "output_type": "execute_result"
    }
   ],
   "source": [
    "plot_titers(\n",
    "    data,\n",
    "    titer_col=\"Titer\",\n",
    "    condition_cols=[\"Condition_A\", \"Condition_B\", \"Condition_C\", \"Condition_D\"],\n",
    "    facet_col=\"Facet\",\n",
    "    color_col=\"Virus\",\n",
    ") "
   ]
  },
  {
   "cell_type": "markdown",
   "metadata": {},
   "source": [
    "Check the docstring of `plot_titers()` for details about each argument and more ways to format the plot:"
   ]
  },
  {
   "cell_type": "code",
   "execution_count": 6,
   "metadata": {},
   "outputs": [
    {
     "name": "stdout",
     "output_type": "stream",
     "text": [
      "\n",
      "    Create an Altair visualization of viral titer data from factorial/combinatorial experiments.\n",
      "    This function generates a strip plot of titer values with a matrix of condition indicators below.\n",
      "\n",
      "    Parameters\n",
      "    ----------\n",
      "    data : pd.DataFrame\n",
      "        DataFrame containing titer values and experimental conditions.\n",
      "        See example data for expected structure.\n",
      "    titer_col : str\n",
      "        Name of the column containing titer values (numeric).\n",
      "    conditions_col : list[str]\n",
      "        List of column names to use for condition indicators in the\n",
      "        matrix display (e.g., ['Condition_A', 'Condition_B']).\n",
      "    facet_col : str, optional\n",
      "        Name of the column to use for creating separate faceted panels.\n",
      "    color_col : str, optional\n",
      "        Name of the column to use for color encoding in the strip plot\n",
      "    shape_col : str, optional\n",
      "        Name of the column to use for shape encoding in the strip plot.\n",
      "    interactive : bool, default=True\n",
      "        Whether to create an interactive plot with tooltips.\n",
      "    log_scale : bool, default=True\n",
      "        Whether to use logarithmic scale for the y-axis.\n",
      "    title : str, default=\"\"\n",
      "        Title for the entire chart.\n",
      "    show_facet_title : bool, default=True\n",
      "        Whether to show the facet title in the strip plot.\n",
      "    y_axis_label : str, default=\"Titer\"\n",
      "        Label for the y-axis.\n",
      "    width : int, default=300\n",
      "        Width of each facet panel in pixels.\n",
      "    point_size : int, default=100\n",
      "        Size of the points in the strip plot.\n",
      "    filled : bool, default=True\n",
      "        Whether to fill the points in the strip plot.\n",
      "    text_size : int, default=15\n",
      "        Size of the text in the condition matrix.\n",
      "\n",
      "    Returns\n",
      "    -------\n",
      "    alt.VConcatChart\n",
      "        A vertically concatenated Altair chart object combining the\n",
      "        strip plot and condition matrix.\n",
      "\n",
      "\n",
      "    Examples\n",
      "    --------\n",
      "    >>> import pandas as pd\n",
      "    >>> import altair as alt\n",
      "    >>> from titerplot import plot_titers\n",
      "    >>>\n",
      "    >>> # Sample data\n",
      "    >>> data = pd.DataFrame({\n",
      "    ...     \"Titer\": [100000, 500000, 150000, 1000000, 300000, 100000],\n",
      "    ...     \"Virus\": [\"Virus A\", \"Virus A\", \"Virus B\", \"Virus B\", \"Virus C\", \"Virus C\"],\n",
      "    ...     \"Facet\": [\"Facet A\", \"Facet A\", \"Facet A\", \"Facet A\", \"Facet A\", \"Facet A\"],\n",
      "    ...     \"Condition_A\": [\"+\", \"+\", \"+\", \"+\", \"+\", \"+\"],\n",
      "    ...     \"Condition_B\": [\"+\", \"+\", \"+\", \"+\", \"+\", \"+\"],\n",
      "    ...     \"Condition_C\": [\"-\", \"+\", \"-\", \"+\", \"-\", \"+\"],\n",
      "    ...     \"Condition_D\": [\"+\", \"-\", \"+\", \"-\", \"+\", \"-\"]\n",
      "    ... })\n",
      "    >>>\n",
      "    >>> # Create the plot\n",
      "    >>> chart = plot_titers(\n",
      "    ...     data=data,\n",
      "    ...     titer_col=\"Titer\",\n",
      "    ...     conditions_col=[\"Condition_A\", \"Condition_B\", \"Condition_C\", \"Condition_D\"],\n",
      "    ...     facet_col=\"Facet\",\n",
      "    ...     color_col=\"Virus\"\n",
      "    ... )\n",
      "    >>>\n",
      "    >>> # Display the chart\n",
      "    >>> chart\n",
      "    \n"
     ]
    }
   ],
   "source": [
    "print(plot_titers.__doc__)"
   ]
  }
 ],
 "metadata": {
  "kernelspec": {
   "display_name": "titerplot",
   "language": "python",
   "name": "titerplot"
  },
  "language_info": {
   "codemirror_mode": {
    "name": "ipython",
    "version": 3
   },
   "file_extension": ".py",
   "mimetype": "text/x-python",
   "name": "python",
   "nbconvert_exporter": "python",
   "pygments_lexer": "ipython3",
   "version": "3.12.8"
  }
 },
 "nbformat": 4,
 "nbformat_minor": 2
}
