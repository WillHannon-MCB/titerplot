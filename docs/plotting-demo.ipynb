{
 "cells": [
  {
   "cell_type": "markdown",
   "metadata": {},
   "source": [
    "# Plotting with `titerplot`\n",
    "\n",
    "`titerplot` is a simple Python module for plotting viral titers from experiments with a factorial or combinatorial design. The key output of `titerplot` is an [`Altair`](https://altair-viz.github.io/) \"strip plot\" of titers where the x-axis is replaced with an experimental design matrix. This notebook demonstrates the plotting capabilities of `titerplot`."
   ]
  },
  {
   "cell_type": "markdown",
   "metadata": {},
   "source": [
    "## Installing"
   ]
  },
  {
   "cell_type": "code",
   "execution_count": 1,
   "metadata": {
    "execution": {
     "iopub.execute_input": "2025-03-20T18:18:53.658614Z",
     "iopub.status.busy": "2025-03-20T18:18:53.658286Z",
     "iopub.status.idle": "2025-03-20T18:18:54.005515Z",
     "shell.execute_reply": "2025-03-20T18:18:54.005261Z"
    }
   },
   "outputs": [],
   "source": [
    "import pandas as pd\n",
    "from titerplot import plot_titers"
   ]
  },
  {
   "cell_type": "markdown",
   "metadata": {},
   "source": [
    "## Data\n",
    "\n",
    "The idealized input data to `plot_titers()` looks like this:"
   ]
  },
  {
   "cell_type": "code",
   "execution_count": 2,
   "metadata": {
    "execution": {
     "iopub.execute_input": "2025-03-20T18:18:54.006865Z",
     "iopub.status.busy": "2025-03-20T18:18:54.006749Z",
     "iopub.status.idle": "2025-03-20T18:18:54.013547Z",
     "shell.execute_reply": "2025-03-20T18:18:54.013311Z"
    }
   },
   "outputs": [
    {
     "data": {
      "text/html": [
       "<div>\n",
       "<style scoped>\n",
       "    .dataframe tbody tr th:only-of-type {\n",
       "        vertical-align: middle;\n",
       "    }\n",
       "\n",
       "    .dataframe tbody tr th {\n",
       "        vertical-align: top;\n",
       "    }\n",
       "\n",
       "    .dataframe thead th {\n",
       "        text-align: right;\n",
       "    }\n",
       "</style>\n",
       "<table border=\"1\" class=\"dataframe\">\n",
       "  <thead>\n",
       "    <tr style=\"text-align: right;\">\n",
       "      <th></th>\n",
       "      <th>Titer</th>\n",
       "      <th>Virus</th>\n",
       "      <th>Facet</th>\n",
       "      <th>Condition_A</th>\n",
       "      <th>Condition_B</th>\n",
       "      <th>Condition_C</th>\n",
       "      <th>Condition_D</th>\n",
       "    </tr>\n",
       "  </thead>\n",
       "  <tbody>\n",
       "    <tr>\n",
       "      <th>0</th>\n",
       "      <td>1000</td>\n",
       "      <td>Virus A</td>\n",
       "      <td>Facet A</td>\n",
       "      <td>+</td>\n",
       "      <td>-</td>\n",
       "      <td>-</td>\n",
       "      <td>-</td>\n",
       "    </tr>\n",
       "    <tr>\n",
       "      <th>1</th>\n",
       "      <td>10000</td>\n",
       "      <td>Virus A</td>\n",
       "      <td>Facet A</td>\n",
       "      <td>+</td>\n",
       "      <td>+</td>\n",
       "      <td>-</td>\n",
       "      <td>-</td>\n",
       "    </tr>\n",
       "    <tr>\n",
       "      <th>2</th>\n",
       "      <td>100000</td>\n",
       "      <td>Virus A</td>\n",
       "      <td>Facet A</td>\n",
       "      <td>+</td>\n",
       "      <td>+</td>\n",
       "      <td>-</td>\n",
       "      <td>+</td>\n",
       "    </tr>\n",
       "    <tr>\n",
       "      <th>3</th>\n",
       "      <td>500000</td>\n",
       "      <td>Virus A</td>\n",
       "      <td>Facet A</td>\n",
       "      <td>+</td>\n",
       "      <td>+</td>\n",
       "      <td>+</td>\n",
       "      <td>-</td>\n",
       "    </tr>\n",
       "    <tr>\n",
       "      <th>4</th>\n",
       "      <td>500</td>\n",
       "      <td>Virus B</td>\n",
       "      <td>Facet A</td>\n",
       "      <td>+</td>\n",
       "      <td>-</td>\n",
       "      <td>-</td>\n",
       "      <td>-</td>\n",
       "    </tr>\n",
       "  </tbody>\n",
       "</table>\n",
       "</div>"
      ],
      "text/plain": [
       "    Titer    Virus    Facet Condition_A Condition_B Condition_C Condition_D\n",
       "0    1000  Virus A  Facet A           +           -           -           -\n",
       "1   10000  Virus A  Facet A           +           +           -           -\n",
       "2  100000  Virus A  Facet A           +           +           -           +\n",
       "3  500000  Virus A  Facet A           +           +           +           -\n",
       "4     500  Virus B  Facet A           +           -           -           -"
      ]
     },
     "execution_count": 2,
     "metadata": {},
     "output_type": "execute_result"
    }
   ],
   "source": [
    "data = pd.read_csv(\"../data/dummy_titers.csv\")\n",
    "data.head()"
   ]
  },
  {
   "cell_type": "markdown",
   "metadata": {},
   "source": [
    "Each condition in the experimental design is a column (`Condition_A`, `Condition_B`, ...). Conditions tested (`+`) or not tested (`-`) produce a given titer value (`Titer`). Condition columns and their values (`+` or `-`) will populate the experimental design matrix on the plots x-axis."
   ]
  },
  {
   "cell_type": "markdown",
   "metadata": {},
   "source": [
    "## Usage\n",
    "\n",
    "The function `plot_titers()` produces a strip plot of titers with an experimental design matrix for the x-axis. Here's an example with the idealized dummy data:"
   ]
  },
  {
   "cell_type": "code",
   "execution_count": 3,
   "metadata": {
    "execution": {
     "iopub.execute_input": "2025-03-20T18:18:54.032861Z",
     "iopub.status.busy": "2025-03-20T18:18:54.032751Z",
     "iopub.status.idle": "2025-03-20T18:18:54.066868Z",
     "shell.execute_reply": "2025-03-20T18:18:54.066665Z"
    }
   },
   "outputs": [
    {
     "data": {
      "text/html": [
       "\n",
       "<style>\n",
       "  #altair-viz-c2b04bc7a57f49fe990dc969f02e9d70.vega-embed {\n",
       "    width: 100%;\n",
       "    display: flex;\n",
       "  }\n",
       "\n",
       "  #altair-viz-c2b04bc7a57f49fe990dc969f02e9d70.vega-embed details,\n",
       "  #altair-viz-c2b04bc7a57f49fe990dc969f02e9d70.vega-embed details summary {\n",
       "    position: relative;\n",
       "  }\n",
       "</style>\n",
       "<div id=\"altair-viz-c2b04bc7a57f49fe990dc969f02e9d70\"></div>\n",
       "<script type=\"text/javascript\">\n",
       "  var VEGA_DEBUG = (typeof VEGA_DEBUG == \"undefined\") ? {} : VEGA_DEBUG;\n",
       "  (function(spec, embedOpt){\n",
       "    let outputDiv = document.currentScript.previousElementSibling;\n",
       "    if (outputDiv.id !== \"altair-viz-c2b04bc7a57f49fe990dc969f02e9d70\") {\n",
       "      outputDiv = document.getElementById(\"altair-viz-c2b04bc7a57f49fe990dc969f02e9d70\");\n",
       "    }\n",
       "\n",
       "    const paths = {\n",
       "      \"vega\": \"https://cdn.jsdelivr.net/npm/vega@5?noext\",\n",
       "      \"vega-lib\": \"https://cdn.jsdelivr.net/npm/vega-lib?noext\",\n",
       "      \"vega-lite\": \"https://cdn.jsdelivr.net/npm/vega-lite@5.20.1?noext\",\n",
       "      \"vega-embed\": \"https://cdn.jsdelivr.net/npm/vega-embed@6?noext\",\n",
       "    };\n",
       "\n",
       "    function maybeLoadScript(lib, version) {\n",
       "      var key = `${lib.replace(\"-\", \"\")}_version`;\n",
       "      return (VEGA_DEBUG[key] == version) ?\n",
       "        Promise.resolve(paths[lib]) :\n",
       "        new Promise(function(resolve, reject) {\n",
       "          var s = document.createElement('script');\n",
       "          document.getElementsByTagName(\"head\")[0].appendChild(s);\n",
       "          s.async = true;\n",
       "          s.onload = () => {\n",
       "            VEGA_DEBUG[key] = version;\n",
       "            return resolve(paths[lib]);\n",
       "          };\n",
       "          s.onerror = () => reject(`Error loading script: ${paths[lib]}`);\n",
       "          s.src = paths[lib];\n",
       "        });\n",
       "    }\n",
       "\n",
       "    function showError(err) {\n",
       "      outputDiv.innerHTML = `<div class=\"error\" style=\"color:red;\">${err}</div>`;\n",
       "      throw err;\n",
       "    }\n",
       "\n",
       "    function displayChart(vegaEmbed) {\n",
       "      vegaEmbed(outputDiv, spec, embedOpt)\n",
       "        .catch(err => showError(`Javascript Error: ${err.message}<br>This usually means there's a typo in your chart specification. See the javascript console for the full traceback.`));\n",
       "    }\n",
       "\n",
       "    if(typeof define === \"function\" && define.amd) {\n",
       "      requirejs.config({paths});\n",
       "      let deps = [\"vega-embed\"];\n",
       "      require(deps, displayChart, err => showError(`Error loading script: ${err.message}`));\n",
       "    } else {\n",
       "      maybeLoadScript(\"vega\", \"5\")\n",
       "        .then(() => maybeLoadScript(\"vega-lite\", \"5.20.1\"))\n",
       "        .then(() => maybeLoadScript(\"vega-embed\", \"6\"))\n",
       "        .catch(showError)\n",
       "        .then(() => displayChart(vegaEmbed));\n",
       "    }\n",
       "  })({\"config\": {\"view\": {\"continuousWidth\": 300, \"continuousHeight\": 300}}, \"vconcat\": [{\"mark\": {\"type\": \"point\", \"filled\": true, \"size\": 100}, \"encoding\": {\"color\": {\"field\": \"Virus\", \"legend\": {\"labelFontSize\": 14, \"title\": \"Virus\", \"titleFontSize\": 16}, \"type\": \"nominal\"}, \"column\": {\"field\": \"Facet\", \"header\": {\"labelFontSize\": 16, \"labels\": true, \"title\": null}, \"type\": \"nominal\"}, \"tooltip\": [{\"field\": \"Titer\", \"type\": \"quantitative\"}, {\"field\": \"Virus\", \"type\": \"nominal\"}, {\"field\": \"Facet\", \"type\": \"nominal\"}, {\"field\": \"Condition_A\", \"type\": \"nominal\"}, {\"field\": \"Condition_B\", \"type\": \"nominal\"}, {\"field\": \"Condition_C\", \"type\": \"nominal\"}, {\"field\": \"Condition_D\", \"type\": \"nominal\"}], \"x\": {\"axis\": {\"domain\": false, \"grid\": false, \"labelFontSize\": 14, \"labels\": false, \"ticks\": true, \"title\": null}, \"field\": \"ID\", \"type\": \"nominal\"}, \"y\": {\"axis\": {\"labelFontSize\": 14, \"titleFontSize\": 16}, \"field\": \"Titer\", \"scale\": {\"type\": \"log\"}, \"title\": \"Titer (IU/ml)\", \"type\": \"quantitative\"}}, \"width\": 300}, {\"mark\": {\"type\": \"text\", \"size\": 15}, \"encoding\": {\"column\": {\"field\": \"Facet\", \"header\": {\"labels\": false, \"title\": null}, \"type\": \"nominal\"}, \"text\": {\"field\": \"Text\", \"type\": \"nominal\"}, \"x\": {\"axis\": null, \"field\": \"ID\", \"type\": \"nominal\"}, \"y\": {\"axis\": {\"domain\": false, \"grid\": false, \"labelFontSize\": 14, \"ticks\": false, \"title\": null}, \"field\": \"Condition\", \"type\": \"nominal\"}}, \"transform\": [{\"fold\": [\"Condition_A\", \"Condition_B\", \"Condition_C\", \"Condition_D\"], \"as\": [\"Condition\", \"Text\"]}], \"view\": {\"strokeWidth\": 1e-05}, \"width\": 300}], \"data\": {\"name\": \"data-48e68cca907ae27f3539e429469ea545\"}, \"spacing\": 0, \"title\": {\"text\": \"\", \"align\": \"center\", \"anchor\": \"middle\", \"fontSize\": 20, \"offset\": 20}, \"$schema\": \"https://vega.github.io/schema/vega-lite/v5.20.1.json\", \"datasets\": {\"data-48e68cca907ae27f3539e429469ea545\": [{\"Titer\": 1000, \"Virus\": \"Virus A\", \"Facet\": \"Facet A\", \"Condition_A\": \"+\", \"Condition_B\": \"-\", \"Condition_C\": \"-\", \"Condition_D\": \"-\", \"ID\": \"A\"}, {\"Titer\": 10000, \"Virus\": \"Virus A\", \"Facet\": \"Facet A\", \"Condition_A\": \"+\", \"Condition_B\": \"+\", \"Condition_C\": \"-\", \"Condition_D\": \"-\", \"ID\": \"A_B\"}, {\"Titer\": 100000, \"Virus\": \"Virus A\", \"Facet\": \"Facet A\", \"Condition_A\": \"+\", \"Condition_B\": \"+\", \"Condition_C\": \"-\", \"Condition_D\": \"+\", \"ID\": \"A_B_D\"}, {\"Titer\": 500000, \"Virus\": \"Virus A\", \"Facet\": \"Facet A\", \"Condition_A\": \"+\", \"Condition_B\": \"+\", \"Condition_C\": \"+\", \"Condition_D\": \"-\", \"ID\": \"A_B_C\"}, {\"Titer\": 500, \"Virus\": \"Virus B\", \"Facet\": \"Facet A\", \"Condition_A\": \"+\", \"Condition_B\": \"-\", \"Condition_C\": \"-\", \"Condition_D\": \"-\", \"ID\": \"A\"}, {\"Titer\": 15000, \"Virus\": \"Virus B\", \"Facet\": \"Facet A\", \"Condition_A\": \"+\", \"Condition_B\": \"+\", \"Condition_C\": \"-\", \"Condition_D\": \"-\", \"ID\": \"A_B\"}, {\"Titer\": 150000, \"Virus\": \"Virus B\", \"Facet\": \"Facet A\", \"Condition_A\": \"+\", \"Condition_B\": \"+\", \"Condition_C\": \"-\", \"Condition_D\": \"+\", \"ID\": \"A_B_D\"}, {\"Titer\": 1000000, \"Virus\": \"Virus B\", \"Facet\": \"Facet A\", \"Condition_A\": \"+\", \"Condition_B\": \"+\", \"Condition_C\": \"+\", \"Condition_D\": \"-\", \"ID\": \"A_B_C\"}, {\"Titer\": 700, \"Virus\": \"Virus C\", \"Facet\": \"Facet A\", \"Condition_A\": \"+\", \"Condition_B\": \"-\", \"Condition_C\": \"-\", \"Condition_D\": \"-\", \"ID\": \"A\"}, {\"Titer\": 5000, \"Virus\": \"Virus C\", \"Facet\": \"Facet A\", \"Condition_A\": \"+\", \"Condition_B\": \"+\", \"Condition_C\": \"-\", \"Condition_D\": \"-\", \"ID\": \"A_B\"}, {\"Titer\": 300000, \"Virus\": \"Virus C\", \"Facet\": \"Facet A\", \"Condition_A\": \"+\", \"Condition_B\": \"+\", \"Condition_C\": \"-\", \"Condition_D\": \"+\", \"ID\": \"A_B_D\"}, {\"Titer\": 100000, \"Virus\": \"Virus C\", \"Facet\": \"Facet A\", \"Condition_A\": \"+\", \"Condition_B\": \"+\", \"Condition_C\": \"+\", \"Condition_D\": \"-\", \"ID\": \"A_B_C\"}, {\"Titer\": 1750, \"Virus\": \"Virus A\", \"Facet\": \"Facet B\", \"Condition_A\": \"+\", \"Condition_B\": \"-\", \"Condition_C\": \"-\", \"Condition_D\": \"-\", \"ID\": \"A\"}, {\"Titer\": 9500, \"Virus\": \"Virus A\", \"Facet\": \"Facet B\", \"Condition_A\": \"+\", \"Condition_B\": \"+\", \"Condition_C\": \"-\", \"Condition_D\": \"-\", \"ID\": \"A_B\"}, {\"Titer\": 123000, \"Virus\": \"Virus A\", \"Facet\": \"Facet B\", \"Condition_A\": \"+\", \"Condition_B\": \"+\", \"Condition_C\": \"-\", \"Condition_D\": \"+\", \"ID\": \"A_B_D\"}, {\"Titer\": 200000, \"Virus\": \"Virus A\", \"Facet\": \"Facet B\", \"Condition_A\": \"+\", \"Condition_B\": \"+\", \"Condition_C\": \"+\", \"Condition_D\": \"-\", \"ID\": \"A_B_C\"}, {\"Titer\": 640, \"Virus\": \"Virus B\", \"Facet\": \"Facet B\", \"Condition_A\": \"+\", \"Condition_B\": \"-\", \"Condition_C\": \"-\", \"Condition_D\": \"-\", \"ID\": \"A\"}, {\"Titer\": 9000, \"Virus\": \"Virus B\", \"Facet\": \"Facet B\", \"Condition_A\": \"+\", \"Condition_B\": \"+\", \"Condition_C\": \"-\", \"Condition_D\": \"-\", \"ID\": \"A_B\"}, {\"Titer\": 320000, \"Virus\": \"Virus B\", \"Facet\": \"Facet B\", \"Condition_A\": \"+\", \"Condition_B\": \"+\", \"Condition_C\": \"-\", \"Condition_D\": \"+\", \"ID\": \"A_B_D\"}, {\"Titer\": 1700000, \"Virus\": \"Virus B\", \"Facet\": \"Facet B\", \"Condition_A\": \"+\", \"Condition_B\": \"+\", \"Condition_C\": \"+\", \"Condition_D\": \"-\", \"ID\": \"A_B_C\"}, {\"Titer\": 200, \"Virus\": \"Virus C\", \"Facet\": \"Facet B\", \"Condition_A\": \"+\", \"Condition_B\": \"-\", \"Condition_C\": \"-\", \"Condition_D\": \"-\", \"ID\": \"A\"}, {\"Titer\": 9500, \"Virus\": \"Virus C\", \"Facet\": \"Facet B\", \"Condition_A\": \"+\", \"Condition_B\": \"+\", \"Condition_C\": \"-\", \"Condition_D\": \"-\", \"ID\": \"A_B\"}, {\"Titer\": 305000, \"Virus\": \"Virus C\", \"Facet\": \"Facet B\", \"Condition_A\": \"+\", \"Condition_B\": \"+\", \"Condition_C\": \"-\", \"Condition_D\": \"+\", \"ID\": \"A_B_D\"}, {\"Titer\": 130000, \"Virus\": \"Virus C\", \"Facet\": \"Facet B\", \"Condition_A\": \"+\", \"Condition_B\": \"+\", \"Condition_C\": \"+\", \"Condition_D\": \"-\", \"ID\": \"A_B_C\"}, {\"Titer\": 550, \"Virus\": \"Virus A\", \"Facet\": \"Facet C\", \"Condition_A\": \"+\", \"Condition_B\": \"-\", \"Condition_C\": \"-\", \"Condition_D\": \"-\", \"ID\": \"A\"}, {\"Titer\": 9500, \"Virus\": \"Virus A\", \"Facet\": \"Facet C\", \"Condition_A\": \"+\", \"Condition_B\": \"+\", \"Condition_C\": \"-\", \"Condition_D\": \"-\", \"ID\": \"A_B\"}, {\"Titer\": 120000, \"Virus\": \"Virus A\", \"Facet\": \"Facet C\", \"Condition_A\": \"+\", \"Condition_B\": \"+\", \"Condition_C\": \"-\", \"Condition_D\": \"+\", \"ID\": \"A_B_D\"}, {\"Titer\": 400000, \"Virus\": \"Virus A\", \"Facet\": \"Facet C\", \"Condition_A\": \"+\", \"Condition_B\": \"+\", \"Condition_C\": \"+\", \"Condition_D\": \"-\", \"ID\": \"A_B_C\"}, {\"Titer\": 600, \"Virus\": \"Virus B\", \"Facet\": \"Facet C\", \"Condition_A\": \"+\", \"Condition_B\": \"-\", \"Condition_C\": \"-\", \"Condition_D\": \"-\", \"ID\": \"A\"}, {\"Titer\": 18000, \"Virus\": \"Virus B\", \"Facet\": \"Facet C\", \"Condition_A\": \"+\", \"Condition_B\": \"+\", \"Condition_C\": \"-\", \"Condition_D\": \"-\", \"ID\": \"A_B\"}, {\"Titer\": 200000, \"Virus\": \"Virus B\", \"Facet\": \"Facet C\", \"Condition_A\": \"+\", \"Condition_B\": \"+\", \"Condition_C\": \"-\", \"Condition_D\": \"+\", \"ID\": \"A_B_D\"}, {\"Titer\": 1300000, \"Virus\": \"Virus B\", \"Facet\": \"Facet C\", \"Condition_A\": \"+\", \"Condition_B\": \"+\", \"Condition_C\": \"+\", \"Condition_D\": \"-\", \"ID\": \"A_B_C\"}, {\"Titer\": 400, \"Virus\": \"Virus C\", \"Facet\": \"Facet C\", \"Condition_A\": \"+\", \"Condition_B\": \"-\", \"Condition_C\": \"-\", \"Condition_D\": \"-\", \"ID\": \"A\"}, {\"Titer\": 5500, \"Virus\": \"Virus C\", \"Facet\": \"Facet C\", \"Condition_A\": \"+\", \"Condition_B\": \"+\", \"Condition_C\": \"-\", \"Condition_D\": \"-\", \"ID\": \"A_B\"}, {\"Titer\": 305000, \"Virus\": \"Virus C\", \"Facet\": \"Facet C\", \"Condition_A\": \"+\", \"Condition_B\": \"+\", \"Condition_C\": \"-\", \"Condition_D\": \"+\", \"ID\": \"A_B_D\"}, {\"Titer\": 130000, \"Virus\": \"Virus C\", \"Facet\": \"Facet C\", \"Condition_A\": \"+\", \"Condition_B\": \"+\", \"Condition_C\": \"+\", \"Condition_D\": \"-\", \"ID\": \"A_B_C\"}]}}, {\"mode\": \"vega-lite\"});\n",
       "</script>"
      ],
      "text/plain": [
       "alt.VConcatChart(...)"
      ]
     },
     "execution_count": 3,
     "metadata": {},
     "output_type": "execute_result"
    }
   ],
   "source": [
    "plot_titers(\n",
    "    data,\n",
    "    titer_col=\"Titer\",\n",
    "    condition_cols=[\"Condition_A\", \"Condition_B\", \"Condition_C\", \"Condition_D\"],\n",
    "    facet_col=\"Facet\",\n",
    "    color_col=\"Virus\"\n",
    ")"
   ]
  },
  {
   "cell_type": "markdown",
   "metadata": {},
   "source": [
    "Each point represents a measurement of titers for a given set of specified conditions, where `+` means the condition was included and `-` means the condition was excluded. Each `facet` could represent a replicate, and each `color` could represent a different `virus`——or whatever other variables you want those encodings to represent. The function returns a vertically concatenated `Altair` chart (`alt.VConcatChart`)."
   ]
  },
  {
   "cell_type": "markdown",
   "metadata": {},
   "source": [
    "`color` and `facet` are optional, but `data`, `titer_col`, and `condition_cols` are required:"
   ]
  },
  {
   "cell_type": "code",
   "execution_count": 4,
   "metadata": {
    "execution": {
     "iopub.execute_input": "2025-03-20T18:18:54.067977Z",
     "iopub.status.busy": "2025-03-20T18:18:54.067880Z",
     "iopub.status.idle": "2025-03-20T18:18:54.090879Z",
     "shell.execute_reply": "2025-03-20T18:18:54.090619Z"
    }
   },
   "outputs": [
    {
     "data": {
      "text/html": [
       "\n",
       "<style>\n",
       "  #altair-viz-fb0d5830aee44122ac48eaa3799d0489.vega-embed {\n",
       "    width: 100%;\n",
       "    display: flex;\n",
       "  }\n",
       "\n",
       "  #altair-viz-fb0d5830aee44122ac48eaa3799d0489.vega-embed details,\n",
       "  #altair-viz-fb0d5830aee44122ac48eaa3799d0489.vega-embed details summary {\n",
       "    position: relative;\n",
       "  }\n",
       "</style>\n",
       "<div id=\"altair-viz-fb0d5830aee44122ac48eaa3799d0489\"></div>\n",
       "<script type=\"text/javascript\">\n",
       "  var VEGA_DEBUG = (typeof VEGA_DEBUG == \"undefined\") ? {} : VEGA_DEBUG;\n",
       "  (function(spec, embedOpt){\n",
       "    let outputDiv = document.currentScript.previousElementSibling;\n",
       "    if (outputDiv.id !== \"altair-viz-fb0d5830aee44122ac48eaa3799d0489\") {\n",
       "      outputDiv = document.getElementById(\"altair-viz-fb0d5830aee44122ac48eaa3799d0489\");\n",
       "    }\n",
       "\n",
       "    const paths = {\n",
       "      \"vega\": \"https://cdn.jsdelivr.net/npm/vega@5?noext\",\n",
       "      \"vega-lib\": \"https://cdn.jsdelivr.net/npm/vega-lib?noext\",\n",
       "      \"vega-lite\": \"https://cdn.jsdelivr.net/npm/vega-lite@5.20.1?noext\",\n",
       "      \"vega-embed\": \"https://cdn.jsdelivr.net/npm/vega-embed@6?noext\",\n",
       "    };\n",
       "\n",
       "    function maybeLoadScript(lib, version) {\n",
       "      var key = `${lib.replace(\"-\", \"\")}_version`;\n",
       "      return (VEGA_DEBUG[key] == version) ?\n",
       "        Promise.resolve(paths[lib]) :\n",
       "        new Promise(function(resolve, reject) {\n",
       "          var s = document.createElement('script');\n",
       "          document.getElementsByTagName(\"head\")[0].appendChild(s);\n",
       "          s.async = true;\n",
       "          s.onload = () => {\n",
       "            VEGA_DEBUG[key] = version;\n",
       "            return resolve(paths[lib]);\n",
       "          };\n",
       "          s.onerror = () => reject(`Error loading script: ${paths[lib]}`);\n",
       "          s.src = paths[lib];\n",
       "        });\n",
       "    }\n",
       "\n",
       "    function showError(err) {\n",
       "      outputDiv.innerHTML = `<div class=\"error\" style=\"color:red;\">${err}</div>`;\n",
       "      throw err;\n",
       "    }\n",
       "\n",
       "    function displayChart(vegaEmbed) {\n",
       "      vegaEmbed(outputDiv, spec, embedOpt)\n",
       "        .catch(err => showError(`Javascript Error: ${err.message}<br>This usually means there's a typo in your chart specification. See the javascript console for the full traceback.`));\n",
       "    }\n",
       "\n",
       "    if(typeof define === \"function\" && define.amd) {\n",
       "      requirejs.config({paths});\n",
       "      let deps = [\"vega-embed\"];\n",
       "      require(deps, displayChart, err => showError(`Error loading script: ${err.message}`));\n",
       "    } else {\n",
       "      maybeLoadScript(\"vega\", \"5\")\n",
       "        .then(() => maybeLoadScript(\"vega-lite\", \"5.20.1\"))\n",
       "        .then(() => maybeLoadScript(\"vega-embed\", \"6\"))\n",
       "        .catch(showError)\n",
       "        .then(() => displayChart(vegaEmbed));\n",
       "    }\n",
       "  })({\"config\": {\"view\": {\"continuousWidth\": 300, \"continuousHeight\": 300}}, \"vconcat\": [{\"mark\": {\"type\": \"point\", \"filled\": true, \"size\": 100}, \"encoding\": {\"tooltip\": [{\"field\": \"Titer\", \"type\": \"quantitative\"}, {\"field\": \"Virus\", \"type\": \"nominal\"}, {\"field\": \"Facet\", \"type\": \"nominal\"}, {\"field\": \"Condition_A\", \"type\": \"nominal\"}, {\"field\": \"Condition_B\", \"type\": \"nominal\"}, {\"field\": \"Condition_C\", \"type\": \"nominal\"}, {\"field\": \"Condition_D\", \"type\": \"nominal\"}], \"x\": {\"axis\": {\"domain\": false, \"grid\": false, \"labelFontSize\": 14, \"labels\": false, \"ticks\": true, \"title\": null}, \"field\": \"ID\", \"type\": \"nominal\"}, \"y\": {\"axis\": {\"labelFontSize\": 14, \"titleFontSize\": 16}, \"field\": \"Titer\", \"scale\": {\"type\": \"log\"}, \"title\": \"Titer (IU/ml)\", \"type\": \"quantitative\"}}, \"width\": 300}, {\"mark\": {\"type\": \"text\", \"size\": 15}, \"encoding\": {\"text\": {\"field\": \"Text\", \"type\": \"nominal\"}, \"x\": {\"axis\": null, \"field\": \"ID\", \"type\": \"nominal\"}, \"y\": {\"axis\": {\"domain\": false, \"grid\": false, \"labelFontSize\": 14, \"ticks\": false, \"title\": null}, \"field\": \"Condition\", \"type\": \"nominal\"}}, \"transform\": [{\"fold\": [\"Condition_A\", \"Condition_B\", \"Condition_C\", \"Condition_D\"], \"as\": [\"Condition\", \"Text\"]}], \"view\": {\"strokeWidth\": 1e-05}, \"width\": 300}], \"data\": {\"name\": \"data-48e68cca907ae27f3539e429469ea545\"}, \"spacing\": 0, \"title\": {\"text\": \"\", \"align\": \"center\", \"anchor\": \"middle\", \"fontSize\": 20, \"offset\": 20}, \"$schema\": \"https://vega.github.io/schema/vega-lite/v5.20.1.json\", \"datasets\": {\"data-48e68cca907ae27f3539e429469ea545\": [{\"Titer\": 1000, \"Virus\": \"Virus A\", \"Facet\": \"Facet A\", \"Condition_A\": \"+\", \"Condition_B\": \"-\", \"Condition_C\": \"-\", \"Condition_D\": \"-\", \"ID\": \"A\"}, {\"Titer\": 10000, \"Virus\": \"Virus A\", \"Facet\": \"Facet A\", \"Condition_A\": \"+\", \"Condition_B\": \"+\", \"Condition_C\": \"-\", \"Condition_D\": \"-\", \"ID\": \"A_B\"}, {\"Titer\": 100000, \"Virus\": \"Virus A\", \"Facet\": \"Facet A\", \"Condition_A\": \"+\", \"Condition_B\": \"+\", \"Condition_C\": \"-\", \"Condition_D\": \"+\", \"ID\": \"A_B_D\"}, {\"Titer\": 500000, \"Virus\": \"Virus A\", \"Facet\": \"Facet A\", \"Condition_A\": \"+\", \"Condition_B\": \"+\", \"Condition_C\": \"+\", \"Condition_D\": \"-\", \"ID\": \"A_B_C\"}, {\"Titer\": 500, \"Virus\": \"Virus B\", \"Facet\": \"Facet A\", \"Condition_A\": \"+\", \"Condition_B\": \"-\", \"Condition_C\": \"-\", \"Condition_D\": \"-\", \"ID\": \"A\"}, {\"Titer\": 15000, \"Virus\": \"Virus B\", \"Facet\": \"Facet A\", \"Condition_A\": \"+\", \"Condition_B\": \"+\", \"Condition_C\": \"-\", \"Condition_D\": \"-\", \"ID\": \"A_B\"}, {\"Titer\": 150000, \"Virus\": \"Virus B\", \"Facet\": \"Facet A\", \"Condition_A\": \"+\", \"Condition_B\": \"+\", \"Condition_C\": \"-\", \"Condition_D\": \"+\", \"ID\": \"A_B_D\"}, {\"Titer\": 1000000, \"Virus\": \"Virus B\", \"Facet\": \"Facet A\", \"Condition_A\": \"+\", \"Condition_B\": \"+\", \"Condition_C\": \"+\", \"Condition_D\": \"-\", \"ID\": \"A_B_C\"}, {\"Titer\": 700, \"Virus\": \"Virus C\", \"Facet\": \"Facet A\", \"Condition_A\": \"+\", \"Condition_B\": \"-\", \"Condition_C\": \"-\", \"Condition_D\": \"-\", \"ID\": \"A\"}, {\"Titer\": 5000, \"Virus\": \"Virus C\", \"Facet\": \"Facet A\", \"Condition_A\": \"+\", \"Condition_B\": \"+\", \"Condition_C\": \"-\", \"Condition_D\": \"-\", \"ID\": \"A_B\"}, {\"Titer\": 300000, \"Virus\": \"Virus C\", \"Facet\": \"Facet A\", \"Condition_A\": \"+\", \"Condition_B\": \"+\", \"Condition_C\": \"-\", \"Condition_D\": \"+\", \"ID\": \"A_B_D\"}, {\"Titer\": 100000, \"Virus\": \"Virus C\", \"Facet\": \"Facet A\", \"Condition_A\": \"+\", \"Condition_B\": \"+\", \"Condition_C\": \"+\", \"Condition_D\": \"-\", \"ID\": \"A_B_C\"}, {\"Titer\": 1750, \"Virus\": \"Virus A\", \"Facet\": \"Facet B\", \"Condition_A\": \"+\", \"Condition_B\": \"-\", \"Condition_C\": \"-\", \"Condition_D\": \"-\", \"ID\": \"A\"}, {\"Titer\": 9500, \"Virus\": \"Virus A\", \"Facet\": \"Facet B\", \"Condition_A\": \"+\", \"Condition_B\": \"+\", \"Condition_C\": \"-\", \"Condition_D\": \"-\", \"ID\": \"A_B\"}, {\"Titer\": 123000, \"Virus\": \"Virus A\", \"Facet\": \"Facet B\", \"Condition_A\": \"+\", \"Condition_B\": \"+\", \"Condition_C\": \"-\", \"Condition_D\": \"+\", \"ID\": \"A_B_D\"}, {\"Titer\": 200000, \"Virus\": \"Virus A\", \"Facet\": \"Facet B\", \"Condition_A\": \"+\", \"Condition_B\": \"+\", \"Condition_C\": \"+\", \"Condition_D\": \"-\", \"ID\": \"A_B_C\"}, {\"Titer\": 640, \"Virus\": \"Virus B\", \"Facet\": \"Facet B\", \"Condition_A\": \"+\", \"Condition_B\": \"-\", \"Condition_C\": \"-\", \"Condition_D\": \"-\", \"ID\": \"A\"}, {\"Titer\": 9000, \"Virus\": \"Virus B\", \"Facet\": \"Facet B\", \"Condition_A\": \"+\", \"Condition_B\": \"+\", \"Condition_C\": \"-\", \"Condition_D\": \"-\", \"ID\": \"A_B\"}, {\"Titer\": 320000, \"Virus\": \"Virus B\", \"Facet\": \"Facet B\", \"Condition_A\": \"+\", \"Condition_B\": \"+\", \"Condition_C\": \"-\", \"Condition_D\": \"+\", \"ID\": \"A_B_D\"}, {\"Titer\": 1700000, \"Virus\": \"Virus B\", \"Facet\": \"Facet B\", \"Condition_A\": \"+\", \"Condition_B\": \"+\", \"Condition_C\": \"+\", \"Condition_D\": \"-\", \"ID\": \"A_B_C\"}, {\"Titer\": 200, \"Virus\": \"Virus C\", \"Facet\": \"Facet B\", \"Condition_A\": \"+\", \"Condition_B\": \"-\", \"Condition_C\": \"-\", \"Condition_D\": \"-\", \"ID\": \"A\"}, {\"Titer\": 9500, \"Virus\": \"Virus C\", \"Facet\": \"Facet B\", \"Condition_A\": \"+\", \"Condition_B\": \"+\", \"Condition_C\": \"-\", \"Condition_D\": \"-\", \"ID\": \"A_B\"}, {\"Titer\": 305000, \"Virus\": \"Virus C\", \"Facet\": \"Facet B\", \"Condition_A\": \"+\", \"Condition_B\": \"+\", \"Condition_C\": \"-\", \"Condition_D\": \"+\", \"ID\": \"A_B_D\"}, {\"Titer\": 130000, \"Virus\": \"Virus C\", \"Facet\": \"Facet B\", \"Condition_A\": \"+\", \"Condition_B\": \"+\", \"Condition_C\": \"+\", \"Condition_D\": \"-\", \"ID\": \"A_B_C\"}, {\"Titer\": 550, \"Virus\": \"Virus A\", \"Facet\": \"Facet C\", \"Condition_A\": \"+\", \"Condition_B\": \"-\", \"Condition_C\": \"-\", \"Condition_D\": \"-\", \"ID\": \"A\"}, {\"Titer\": 9500, \"Virus\": \"Virus A\", \"Facet\": \"Facet C\", \"Condition_A\": \"+\", \"Condition_B\": \"+\", \"Condition_C\": \"-\", \"Condition_D\": \"-\", \"ID\": \"A_B\"}, {\"Titer\": 120000, \"Virus\": \"Virus A\", \"Facet\": \"Facet C\", \"Condition_A\": \"+\", \"Condition_B\": \"+\", \"Condition_C\": \"-\", \"Condition_D\": \"+\", \"ID\": \"A_B_D\"}, {\"Titer\": 400000, \"Virus\": \"Virus A\", \"Facet\": \"Facet C\", \"Condition_A\": \"+\", \"Condition_B\": \"+\", \"Condition_C\": \"+\", \"Condition_D\": \"-\", \"ID\": \"A_B_C\"}, {\"Titer\": 600, \"Virus\": \"Virus B\", \"Facet\": \"Facet C\", \"Condition_A\": \"+\", \"Condition_B\": \"-\", \"Condition_C\": \"-\", \"Condition_D\": \"-\", \"ID\": \"A\"}, {\"Titer\": 18000, \"Virus\": \"Virus B\", \"Facet\": \"Facet C\", \"Condition_A\": \"+\", \"Condition_B\": \"+\", \"Condition_C\": \"-\", \"Condition_D\": \"-\", \"ID\": \"A_B\"}, {\"Titer\": 200000, \"Virus\": \"Virus B\", \"Facet\": \"Facet C\", \"Condition_A\": \"+\", \"Condition_B\": \"+\", \"Condition_C\": \"-\", \"Condition_D\": \"+\", \"ID\": \"A_B_D\"}, {\"Titer\": 1300000, \"Virus\": \"Virus B\", \"Facet\": \"Facet C\", \"Condition_A\": \"+\", \"Condition_B\": \"+\", \"Condition_C\": \"+\", \"Condition_D\": \"-\", \"ID\": \"A_B_C\"}, {\"Titer\": 400, \"Virus\": \"Virus C\", \"Facet\": \"Facet C\", \"Condition_A\": \"+\", \"Condition_B\": \"-\", \"Condition_C\": \"-\", \"Condition_D\": \"-\", \"ID\": \"A\"}, {\"Titer\": 5500, \"Virus\": \"Virus C\", \"Facet\": \"Facet C\", \"Condition_A\": \"+\", \"Condition_B\": \"+\", \"Condition_C\": \"-\", \"Condition_D\": \"-\", \"ID\": \"A_B\"}, {\"Titer\": 305000, \"Virus\": \"Virus C\", \"Facet\": \"Facet C\", \"Condition_A\": \"+\", \"Condition_B\": \"+\", \"Condition_C\": \"-\", \"Condition_D\": \"+\", \"ID\": \"A_B_D\"}, {\"Titer\": 130000, \"Virus\": \"Virus C\", \"Facet\": \"Facet C\", \"Condition_A\": \"+\", \"Condition_B\": \"+\", \"Condition_C\": \"+\", \"Condition_D\": \"-\", \"ID\": \"A_B_C\"}]}}, {\"mode\": \"vega-lite\"});\n",
       "</script>"
      ],
      "text/plain": [
       "alt.VConcatChart(...)"
      ]
     },
     "execution_count": 4,
     "metadata": {},
     "output_type": "execute_result"
    }
   ],
   "source": [
    "plot_titers(\n",
    "    data, # REQUIRED\n",
    "    titer_col=\"Titer\", # REQUIRED\n",
    "    condition_cols=[\"Condition_A\", \"Condition_B\", \"Condition_C\", \"Condition_D\"] # REQUIRED\n",
    ")"
   ]
  },
  {
   "cell_type": "markdown",
   "metadata": {},
   "source": [
    "Although you must specify at least one condition, you don't need to specify *all* conditions."
   ]
  },
  {
   "cell_type": "code",
   "execution_count": 5,
   "metadata": {
    "execution": {
     "iopub.execute_input": "2025-03-20T18:18:54.091998Z",
     "iopub.status.busy": "2025-03-20T18:18:54.091918Z",
     "iopub.status.idle": "2025-03-20T18:18:54.116521Z",
     "shell.execute_reply": "2025-03-20T18:18:54.116287Z"
    }
   },
   "outputs": [
    {
     "data": {
      "text/html": [
       "\n",
       "<style>\n",
       "  #altair-viz-da6f3d8393ae4716aad5cb392e6255c3.vega-embed {\n",
       "    width: 100%;\n",
       "    display: flex;\n",
       "  }\n",
       "\n",
       "  #altair-viz-da6f3d8393ae4716aad5cb392e6255c3.vega-embed details,\n",
       "  #altair-viz-da6f3d8393ae4716aad5cb392e6255c3.vega-embed details summary {\n",
       "    position: relative;\n",
       "  }\n",
       "</style>\n",
       "<div id=\"altair-viz-da6f3d8393ae4716aad5cb392e6255c3\"></div>\n",
       "<script type=\"text/javascript\">\n",
       "  var VEGA_DEBUG = (typeof VEGA_DEBUG == \"undefined\") ? {} : VEGA_DEBUG;\n",
       "  (function(spec, embedOpt){\n",
       "    let outputDiv = document.currentScript.previousElementSibling;\n",
       "    if (outputDiv.id !== \"altair-viz-da6f3d8393ae4716aad5cb392e6255c3\") {\n",
       "      outputDiv = document.getElementById(\"altair-viz-da6f3d8393ae4716aad5cb392e6255c3\");\n",
       "    }\n",
       "\n",
       "    const paths = {\n",
       "      \"vega\": \"https://cdn.jsdelivr.net/npm/vega@5?noext\",\n",
       "      \"vega-lib\": \"https://cdn.jsdelivr.net/npm/vega-lib?noext\",\n",
       "      \"vega-lite\": \"https://cdn.jsdelivr.net/npm/vega-lite@5.20.1?noext\",\n",
       "      \"vega-embed\": \"https://cdn.jsdelivr.net/npm/vega-embed@6?noext\",\n",
       "    };\n",
       "\n",
       "    function maybeLoadScript(lib, version) {\n",
       "      var key = `${lib.replace(\"-\", \"\")}_version`;\n",
       "      return (VEGA_DEBUG[key] == version) ?\n",
       "        Promise.resolve(paths[lib]) :\n",
       "        new Promise(function(resolve, reject) {\n",
       "          var s = document.createElement('script');\n",
       "          document.getElementsByTagName(\"head\")[0].appendChild(s);\n",
       "          s.async = true;\n",
       "          s.onload = () => {\n",
       "            VEGA_DEBUG[key] = version;\n",
       "            return resolve(paths[lib]);\n",
       "          };\n",
       "          s.onerror = () => reject(`Error loading script: ${paths[lib]}`);\n",
       "          s.src = paths[lib];\n",
       "        });\n",
       "    }\n",
       "\n",
       "    function showError(err) {\n",
       "      outputDiv.innerHTML = `<div class=\"error\" style=\"color:red;\">${err}</div>`;\n",
       "      throw err;\n",
       "    }\n",
       "\n",
       "    function displayChart(vegaEmbed) {\n",
       "      vegaEmbed(outputDiv, spec, embedOpt)\n",
       "        .catch(err => showError(`Javascript Error: ${err.message}<br>This usually means there's a typo in your chart specification. See the javascript console for the full traceback.`));\n",
       "    }\n",
       "\n",
       "    if(typeof define === \"function\" && define.amd) {\n",
       "      requirejs.config({paths});\n",
       "      let deps = [\"vega-embed\"];\n",
       "      require(deps, displayChart, err => showError(`Error loading script: ${err.message}`));\n",
       "    } else {\n",
       "      maybeLoadScript(\"vega\", \"5\")\n",
       "        .then(() => maybeLoadScript(\"vega-lite\", \"5.20.1\"))\n",
       "        .then(() => maybeLoadScript(\"vega-embed\", \"6\"))\n",
       "        .catch(showError)\n",
       "        .then(() => displayChart(vegaEmbed));\n",
       "    }\n",
       "  })({\"config\": {\"view\": {\"continuousWidth\": 300, \"continuousHeight\": 300}}, \"vconcat\": [{\"mark\": {\"type\": \"point\", \"filled\": true, \"size\": 100}, \"encoding\": {\"color\": {\"field\": \"Virus\", \"legend\": {\"labelFontSize\": 14, \"title\": \"Virus\", \"titleFontSize\": 16}, \"type\": \"nominal\"}, \"column\": {\"field\": \"Facet\", \"header\": {\"labelFontSize\": 16, \"labels\": true, \"title\": null}, \"type\": \"nominal\"}, \"tooltip\": [{\"field\": \"Titer\", \"type\": \"quantitative\"}, {\"field\": \"Virus\", \"type\": \"nominal\"}, {\"field\": \"Facet\", \"type\": \"nominal\"}, {\"field\": \"Condition_A\", \"type\": \"nominal\"}, {\"field\": \"Condition_B\", \"type\": \"nominal\"}, {\"field\": \"Condition_C\", \"type\": \"nominal\"}, {\"field\": \"Condition_D\", \"type\": \"nominal\"}], \"x\": {\"axis\": {\"domain\": false, \"grid\": false, \"labelFontSize\": 14, \"labels\": false, \"ticks\": true, \"title\": null}, \"field\": \"ID\", \"type\": \"nominal\"}, \"y\": {\"axis\": {\"labelFontSize\": 14, \"titleFontSize\": 16}, \"field\": \"Titer\", \"scale\": {\"type\": \"log\"}, \"title\": \"Titer (IU/ml)\", \"type\": \"quantitative\"}}, \"width\": 300}, {\"mark\": {\"type\": \"text\", \"size\": 15}, \"encoding\": {\"column\": {\"field\": \"Facet\", \"header\": {\"labels\": false, \"title\": null}, \"type\": \"nominal\"}, \"text\": {\"field\": \"Text\", \"type\": \"nominal\"}, \"x\": {\"axis\": null, \"field\": \"ID\", \"type\": \"nominal\"}, \"y\": {\"axis\": {\"domain\": false, \"grid\": false, \"labelFontSize\": 14, \"ticks\": false, \"title\": null}, \"field\": \"Condition\", \"type\": \"nominal\"}}, \"transform\": [{\"fold\": [\"Condition_C\", \"Condition_D\"], \"as\": [\"Condition\", \"Text\"]}], \"view\": {\"strokeWidth\": 1e-05}, \"width\": 300}], \"data\": {\"name\": \"data-2fbf45a6c7a3362d82a975156f9cb451\"}, \"spacing\": 0, \"title\": {\"text\": \"\", \"align\": \"center\", \"anchor\": \"middle\", \"fontSize\": 20, \"offset\": 20}, \"$schema\": \"https://vega.github.io/schema/vega-lite/v5.20.1.json\", \"datasets\": {\"data-2fbf45a6c7a3362d82a975156f9cb451\": [{\"Titer\": 1000, \"Virus\": \"Virus A\", \"Facet\": \"Facet A\", \"Condition_A\": \"+\", \"Condition_B\": \"-\", \"Condition_C\": \"-\", \"Condition_D\": \"-\", \"ID\": \"\"}, {\"Titer\": 10000, \"Virus\": \"Virus A\", \"Facet\": \"Facet A\", \"Condition_A\": \"+\", \"Condition_B\": \"+\", \"Condition_C\": \"-\", \"Condition_D\": \"-\", \"ID\": \"\"}, {\"Titer\": 100000, \"Virus\": \"Virus A\", \"Facet\": \"Facet A\", \"Condition_A\": \"+\", \"Condition_B\": \"+\", \"Condition_C\": \"-\", \"Condition_D\": \"+\", \"ID\": \"D\"}, {\"Titer\": 500000, \"Virus\": \"Virus A\", \"Facet\": \"Facet A\", \"Condition_A\": \"+\", \"Condition_B\": \"+\", \"Condition_C\": \"+\", \"Condition_D\": \"-\", \"ID\": \"C\"}, {\"Titer\": 500, \"Virus\": \"Virus B\", \"Facet\": \"Facet A\", \"Condition_A\": \"+\", \"Condition_B\": \"-\", \"Condition_C\": \"-\", \"Condition_D\": \"-\", \"ID\": \"\"}, {\"Titer\": 15000, \"Virus\": \"Virus B\", \"Facet\": \"Facet A\", \"Condition_A\": \"+\", \"Condition_B\": \"+\", \"Condition_C\": \"-\", \"Condition_D\": \"-\", \"ID\": \"\"}, {\"Titer\": 150000, \"Virus\": \"Virus B\", \"Facet\": \"Facet A\", \"Condition_A\": \"+\", \"Condition_B\": \"+\", \"Condition_C\": \"-\", \"Condition_D\": \"+\", \"ID\": \"D\"}, {\"Titer\": 1000000, \"Virus\": \"Virus B\", \"Facet\": \"Facet A\", \"Condition_A\": \"+\", \"Condition_B\": \"+\", \"Condition_C\": \"+\", \"Condition_D\": \"-\", \"ID\": \"C\"}, {\"Titer\": 700, \"Virus\": \"Virus C\", \"Facet\": \"Facet A\", \"Condition_A\": \"+\", \"Condition_B\": \"-\", \"Condition_C\": \"-\", \"Condition_D\": \"-\", \"ID\": \"\"}, {\"Titer\": 5000, \"Virus\": \"Virus C\", \"Facet\": \"Facet A\", \"Condition_A\": \"+\", \"Condition_B\": \"+\", \"Condition_C\": \"-\", \"Condition_D\": \"-\", \"ID\": \"\"}, {\"Titer\": 300000, \"Virus\": \"Virus C\", \"Facet\": \"Facet A\", \"Condition_A\": \"+\", \"Condition_B\": \"+\", \"Condition_C\": \"-\", \"Condition_D\": \"+\", \"ID\": \"D\"}, {\"Titer\": 100000, \"Virus\": \"Virus C\", \"Facet\": \"Facet A\", \"Condition_A\": \"+\", \"Condition_B\": \"+\", \"Condition_C\": \"+\", \"Condition_D\": \"-\", \"ID\": \"C\"}, {\"Titer\": 1750, \"Virus\": \"Virus A\", \"Facet\": \"Facet B\", \"Condition_A\": \"+\", \"Condition_B\": \"-\", \"Condition_C\": \"-\", \"Condition_D\": \"-\", \"ID\": \"\"}, {\"Titer\": 9500, \"Virus\": \"Virus A\", \"Facet\": \"Facet B\", \"Condition_A\": \"+\", \"Condition_B\": \"+\", \"Condition_C\": \"-\", \"Condition_D\": \"-\", \"ID\": \"\"}, {\"Titer\": 123000, \"Virus\": \"Virus A\", \"Facet\": \"Facet B\", \"Condition_A\": \"+\", \"Condition_B\": \"+\", \"Condition_C\": \"-\", \"Condition_D\": \"+\", \"ID\": \"D\"}, {\"Titer\": 200000, \"Virus\": \"Virus A\", \"Facet\": \"Facet B\", \"Condition_A\": \"+\", \"Condition_B\": \"+\", \"Condition_C\": \"+\", \"Condition_D\": \"-\", \"ID\": \"C\"}, {\"Titer\": 640, \"Virus\": \"Virus B\", \"Facet\": \"Facet B\", \"Condition_A\": \"+\", \"Condition_B\": \"-\", \"Condition_C\": \"-\", \"Condition_D\": \"-\", \"ID\": \"\"}, {\"Titer\": 9000, \"Virus\": \"Virus B\", \"Facet\": \"Facet B\", \"Condition_A\": \"+\", \"Condition_B\": \"+\", \"Condition_C\": \"-\", \"Condition_D\": \"-\", \"ID\": \"\"}, {\"Titer\": 320000, \"Virus\": \"Virus B\", \"Facet\": \"Facet B\", \"Condition_A\": \"+\", \"Condition_B\": \"+\", \"Condition_C\": \"-\", \"Condition_D\": \"+\", \"ID\": \"D\"}, {\"Titer\": 1700000, \"Virus\": \"Virus B\", \"Facet\": \"Facet B\", \"Condition_A\": \"+\", \"Condition_B\": \"+\", \"Condition_C\": \"+\", \"Condition_D\": \"-\", \"ID\": \"C\"}, {\"Titer\": 200, \"Virus\": \"Virus C\", \"Facet\": \"Facet B\", \"Condition_A\": \"+\", \"Condition_B\": \"-\", \"Condition_C\": \"-\", \"Condition_D\": \"-\", \"ID\": \"\"}, {\"Titer\": 9500, \"Virus\": \"Virus C\", \"Facet\": \"Facet B\", \"Condition_A\": \"+\", \"Condition_B\": \"+\", \"Condition_C\": \"-\", \"Condition_D\": \"-\", \"ID\": \"\"}, {\"Titer\": 305000, \"Virus\": \"Virus C\", \"Facet\": \"Facet B\", \"Condition_A\": \"+\", \"Condition_B\": \"+\", \"Condition_C\": \"-\", \"Condition_D\": \"+\", \"ID\": \"D\"}, {\"Titer\": 130000, \"Virus\": \"Virus C\", \"Facet\": \"Facet B\", \"Condition_A\": \"+\", \"Condition_B\": \"+\", \"Condition_C\": \"+\", \"Condition_D\": \"-\", \"ID\": \"C\"}, {\"Titer\": 550, \"Virus\": \"Virus A\", \"Facet\": \"Facet C\", \"Condition_A\": \"+\", \"Condition_B\": \"-\", \"Condition_C\": \"-\", \"Condition_D\": \"-\", \"ID\": \"\"}, {\"Titer\": 9500, \"Virus\": \"Virus A\", \"Facet\": \"Facet C\", \"Condition_A\": \"+\", \"Condition_B\": \"+\", \"Condition_C\": \"-\", \"Condition_D\": \"-\", \"ID\": \"\"}, {\"Titer\": 120000, \"Virus\": \"Virus A\", \"Facet\": \"Facet C\", \"Condition_A\": \"+\", \"Condition_B\": \"+\", \"Condition_C\": \"-\", \"Condition_D\": \"+\", \"ID\": \"D\"}, {\"Titer\": 400000, \"Virus\": \"Virus A\", \"Facet\": \"Facet C\", \"Condition_A\": \"+\", \"Condition_B\": \"+\", \"Condition_C\": \"+\", \"Condition_D\": \"-\", \"ID\": \"C\"}, {\"Titer\": 600, \"Virus\": \"Virus B\", \"Facet\": \"Facet C\", \"Condition_A\": \"+\", \"Condition_B\": \"-\", \"Condition_C\": \"-\", \"Condition_D\": \"-\", \"ID\": \"\"}, {\"Titer\": 18000, \"Virus\": \"Virus B\", \"Facet\": \"Facet C\", \"Condition_A\": \"+\", \"Condition_B\": \"+\", \"Condition_C\": \"-\", \"Condition_D\": \"-\", \"ID\": \"\"}, {\"Titer\": 200000, \"Virus\": \"Virus B\", \"Facet\": \"Facet C\", \"Condition_A\": \"+\", \"Condition_B\": \"+\", \"Condition_C\": \"-\", \"Condition_D\": \"+\", \"ID\": \"D\"}, {\"Titer\": 1300000, \"Virus\": \"Virus B\", \"Facet\": \"Facet C\", \"Condition_A\": \"+\", \"Condition_B\": \"+\", \"Condition_C\": \"+\", \"Condition_D\": \"-\", \"ID\": \"C\"}, {\"Titer\": 400, \"Virus\": \"Virus C\", \"Facet\": \"Facet C\", \"Condition_A\": \"+\", \"Condition_B\": \"-\", \"Condition_C\": \"-\", \"Condition_D\": \"-\", \"ID\": \"\"}, {\"Titer\": 5500, \"Virus\": \"Virus C\", \"Facet\": \"Facet C\", \"Condition_A\": \"+\", \"Condition_B\": \"+\", \"Condition_C\": \"-\", \"Condition_D\": \"-\", \"ID\": \"\"}, {\"Titer\": 305000, \"Virus\": \"Virus C\", \"Facet\": \"Facet C\", \"Condition_A\": \"+\", \"Condition_B\": \"+\", \"Condition_C\": \"-\", \"Condition_D\": \"+\", \"ID\": \"D\"}, {\"Titer\": 130000, \"Virus\": \"Virus C\", \"Facet\": \"Facet C\", \"Condition_A\": \"+\", \"Condition_B\": \"+\", \"Condition_C\": \"+\", \"Condition_D\": \"-\", \"ID\": \"C\"}]}}, {\"mode\": \"vega-lite\"});\n",
       "</script>"
      ],
      "text/plain": [
       "alt.VConcatChart(...)"
      ]
     },
     "execution_count": 5,
     "metadata": {},
     "output_type": "execute_result"
    }
   ],
   "source": [
    "plot_titers(\n",
    "    data,\n",
    "    titer_col=\"Titer\",\n",
    "    condition_cols=[\"Condition_C\", \"Condition_D\"],\n",
    "    facet_col=\"Facet\",\n",
    "    color_col=\"Virus\"\n",
    ")"
   ]
  },
  {
   "cell_type": "markdown",
   "metadata": {},
   "source": [
    "In addition to `color` and `facet`, you can encode variables in `shape`."
   ]
  },
  {
   "cell_type": "code",
   "execution_count": 6,
   "metadata": {
    "execution": {
     "iopub.execute_input": "2025-03-20T18:18:54.117619Z",
     "iopub.status.busy": "2025-03-20T18:18:54.117542Z",
     "iopub.status.idle": "2025-03-20T18:18:54.142030Z",
     "shell.execute_reply": "2025-03-20T18:18:54.141805Z"
    }
   },
   "outputs": [
    {
     "data": {
      "text/html": [
       "\n",
       "<style>\n",
       "  #altair-viz-207bca428c7448c9b726674dac471267.vega-embed {\n",
       "    width: 100%;\n",
       "    display: flex;\n",
       "  }\n",
       "\n",
       "  #altair-viz-207bca428c7448c9b726674dac471267.vega-embed details,\n",
       "  #altair-viz-207bca428c7448c9b726674dac471267.vega-embed details summary {\n",
       "    position: relative;\n",
       "  }\n",
       "</style>\n",
       "<div id=\"altair-viz-207bca428c7448c9b726674dac471267\"></div>\n",
       "<script type=\"text/javascript\">\n",
       "  var VEGA_DEBUG = (typeof VEGA_DEBUG == \"undefined\") ? {} : VEGA_DEBUG;\n",
       "  (function(spec, embedOpt){\n",
       "    let outputDiv = document.currentScript.previousElementSibling;\n",
       "    if (outputDiv.id !== \"altair-viz-207bca428c7448c9b726674dac471267\") {\n",
       "      outputDiv = document.getElementById(\"altair-viz-207bca428c7448c9b726674dac471267\");\n",
       "    }\n",
       "\n",
       "    const paths = {\n",
       "      \"vega\": \"https://cdn.jsdelivr.net/npm/vega@5?noext\",\n",
       "      \"vega-lib\": \"https://cdn.jsdelivr.net/npm/vega-lib?noext\",\n",
       "      \"vega-lite\": \"https://cdn.jsdelivr.net/npm/vega-lite@5.20.1?noext\",\n",
       "      \"vega-embed\": \"https://cdn.jsdelivr.net/npm/vega-embed@6?noext\",\n",
       "    };\n",
       "\n",
       "    function maybeLoadScript(lib, version) {\n",
       "      var key = `${lib.replace(\"-\", \"\")}_version`;\n",
       "      return (VEGA_DEBUG[key] == version) ?\n",
       "        Promise.resolve(paths[lib]) :\n",
       "        new Promise(function(resolve, reject) {\n",
       "          var s = document.createElement('script');\n",
       "          document.getElementsByTagName(\"head\")[0].appendChild(s);\n",
       "          s.async = true;\n",
       "          s.onload = () => {\n",
       "            VEGA_DEBUG[key] = version;\n",
       "            return resolve(paths[lib]);\n",
       "          };\n",
       "          s.onerror = () => reject(`Error loading script: ${paths[lib]}`);\n",
       "          s.src = paths[lib];\n",
       "        });\n",
       "    }\n",
       "\n",
       "    function showError(err) {\n",
       "      outputDiv.innerHTML = `<div class=\"error\" style=\"color:red;\">${err}</div>`;\n",
       "      throw err;\n",
       "    }\n",
       "\n",
       "    function displayChart(vegaEmbed) {\n",
       "      vegaEmbed(outputDiv, spec, embedOpt)\n",
       "        .catch(err => showError(`Javascript Error: ${err.message}<br>This usually means there's a typo in your chart specification. See the javascript console for the full traceback.`));\n",
       "    }\n",
       "\n",
       "    if(typeof define === \"function\" && define.amd) {\n",
       "      requirejs.config({paths});\n",
       "      let deps = [\"vega-embed\"];\n",
       "      require(deps, displayChart, err => showError(`Error loading script: ${err.message}`));\n",
       "    } else {\n",
       "      maybeLoadScript(\"vega\", \"5\")\n",
       "        .then(() => maybeLoadScript(\"vega-lite\", \"5.20.1\"))\n",
       "        .then(() => maybeLoadScript(\"vega-embed\", \"6\"))\n",
       "        .catch(showError)\n",
       "        .then(() => displayChart(vegaEmbed));\n",
       "    }\n",
       "  })({\"config\": {\"view\": {\"continuousWidth\": 300, \"continuousHeight\": 300}}, \"vconcat\": [{\"mark\": {\"type\": \"point\", \"filled\": true, \"size\": 100}, \"encoding\": {\"column\": {\"field\": \"Facet\", \"header\": {\"labelFontSize\": 16, \"labels\": true, \"title\": null}, \"type\": \"nominal\"}, \"shape\": {\"field\": \"Virus\", \"legend\": {\"labelFontSize\": 14, \"title\": \"Virus\", \"titleFontSize\": 16}, \"type\": \"nominal\"}, \"tooltip\": [{\"field\": \"Titer\", \"type\": \"quantitative\"}, {\"field\": \"Virus\", \"type\": \"nominal\"}, {\"field\": \"Facet\", \"type\": \"nominal\"}, {\"field\": \"Condition_A\", \"type\": \"nominal\"}, {\"field\": \"Condition_B\", \"type\": \"nominal\"}, {\"field\": \"Condition_C\", \"type\": \"nominal\"}, {\"field\": \"Condition_D\", \"type\": \"nominal\"}], \"x\": {\"axis\": {\"domain\": false, \"grid\": false, \"labelFontSize\": 14, \"labels\": false, \"ticks\": true, \"title\": null}, \"field\": \"ID\", \"type\": \"nominal\"}, \"y\": {\"axis\": {\"labelFontSize\": 14, \"titleFontSize\": 16}, \"field\": \"Titer\", \"scale\": {\"type\": \"log\"}, \"title\": \"Titer (IU/ml)\", \"type\": \"quantitative\"}}, \"width\": 300}, {\"mark\": {\"type\": \"text\", \"size\": 15}, \"encoding\": {\"column\": {\"field\": \"Facet\", \"header\": {\"labels\": false, \"title\": null}, \"type\": \"nominal\"}, \"text\": {\"field\": \"Text\", \"type\": \"nominal\"}, \"x\": {\"axis\": null, \"field\": \"ID\", \"type\": \"nominal\"}, \"y\": {\"axis\": {\"domain\": false, \"grid\": false, \"labelFontSize\": 14, \"ticks\": false, \"title\": null}, \"field\": \"Condition\", \"type\": \"nominal\"}}, \"transform\": [{\"fold\": [\"Condition_A\", \"Condition_B\", \"Condition_C\", \"Condition_D\"], \"as\": [\"Condition\", \"Text\"]}], \"view\": {\"strokeWidth\": 1e-05}, \"width\": 300}], \"data\": {\"name\": \"data-48e68cca907ae27f3539e429469ea545\"}, \"spacing\": 0, \"title\": {\"text\": \"\", \"align\": \"center\", \"anchor\": \"middle\", \"fontSize\": 20, \"offset\": 20}, \"$schema\": \"https://vega.github.io/schema/vega-lite/v5.20.1.json\", \"datasets\": {\"data-48e68cca907ae27f3539e429469ea545\": [{\"Titer\": 1000, \"Virus\": \"Virus A\", \"Facet\": \"Facet A\", \"Condition_A\": \"+\", \"Condition_B\": \"-\", \"Condition_C\": \"-\", \"Condition_D\": \"-\", \"ID\": \"A\"}, {\"Titer\": 10000, \"Virus\": \"Virus A\", \"Facet\": \"Facet A\", \"Condition_A\": \"+\", \"Condition_B\": \"+\", \"Condition_C\": \"-\", \"Condition_D\": \"-\", \"ID\": \"A_B\"}, {\"Titer\": 100000, \"Virus\": \"Virus A\", \"Facet\": \"Facet A\", \"Condition_A\": \"+\", \"Condition_B\": \"+\", \"Condition_C\": \"-\", \"Condition_D\": \"+\", \"ID\": \"A_B_D\"}, {\"Titer\": 500000, \"Virus\": \"Virus A\", \"Facet\": \"Facet A\", \"Condition_A\": \"+\", \"Condition_B\": \"+\", \"Condition_C\": \"+\", \"Condition_D\": \"-\", \"ID\": \"A_B_C\"}, {\"Titer\": 500, \"Virus\": \"Virus B\", \"Facet\": \"Facet A\", \"Condition_A\": \"+\", \"Condition_B\": \"-\", \"Condition_C\": \"-\", \"Condition_D\": \"-\", \"ID\": \"A\"}, {\"Titer\": 15000, \"Virus\": \"Virus B\", \"Facet\": \"Facet A\", \"Condition_A\": \"+\", \"Condition_B\": \"+\", \"Condition_C\": \"-\", \"Condition_D\": \"-\", \"ID\": \"A_B\"}, {\"Titer\": 150000, \"Virus\": \"Virus B\", \"Facet\": \"Facet A\", \"Condition_A\": \"+\", \"Condition_B\": \"+\", \"Condition_C\": \"-\", \"Condition_D\": \"+\", \"ID\": \"A_B_D\"}, {\"Titer\": 1000000, \"Virus\": \"Virus B\", \"Facet\": \"Facet A\", \"Condition_A\": \"+\", \"Condition_B\": \"+\", \"Condition_C\": \"+\", \"Condition_D\": \"-\", \"ID\": \"A_B_C\"}, {\"Titer\": 700, \"Virus\": \"Virus C\", \"Facet\": \"Facet A\", \"Condition_A\": \"+\", \"Condition_B\": \"-\", \"Condition_C\": \"-\", \"Condition_D\": \"-\", \"ID\": \"A\"}, {\"Titer\": 5000, \"Virus\": \"Virus C\", \"Facet\": \"Facet A\", \"Condition_A\": \"+\", \"Condition_B\": \"+\", \"Condition_C\": \"-\", \"Condition_D\": \"-\", \"ID\": \"A_B\"}, {\"Titer\": 300000, \"Virus\": \"Virus C\", \"Facet\": \"Facet A\", \"Condition_A\": \"+\", \"Condition_B\": \"+\", \"Condition_C\": \"-\", \"Condition_D\": \"+\", \"ID\": \"A_B_D\"}, {\"Titer\": 100000, \"Virus\": \"Virus C\", \"Facet\": \"Facet A\", \"Condition_A\": \"+\", \"Condition_B\": \"+\", \"Condition_C\": \"+\", \"Condition_D\": \"-\", \"ID\": \"A_B_C\"}, {\"Titer\": 1750, \"Virus\": \"Virus A\", \"Facet\": \"Facet B\", \"Condition_A\": \"+\", \"Condition_B\": \"-\", \"Condition_C\": \"-\", \"Condition_D\": \"-\", \"ID\": \"A\"}, {\"Titer\": 9500, \"Virus\": \"Virus A\", \"Facet\": \"Facet B\", \"Condition_A\": \"+\", \"Condition_B\": \"+\", \"Condition_C\": \"-\", \"Condition_D\": \"-\", \"ID\": \"A_B\"}, {\"Titer\": 123000, \"Virus\": \"Virus A\", \"Facet\": \"Facet B\", \"Condition_A\": \"+\", \"Condition_B\": \"+\", \"Condition_C\": \"-\", \"Condition_D\": \"+\", \"ID\": \"A_B_D\"}, {\"Titer\": 200000, \"Virus\": \"Virus A\", \"Facet\": \"Facet B\", \"Condition_A\": \"+\", \"Condition_B\": \"+\", \"Condition_C\": \"+\", \"Condition_D\": \"-\", \"ID\": \"A_B_C\"}, {\"Titer\": 640, \"Virus\": \"Virus B\", \"Facet\": \"Facet B\", \"Condition_A\": \"+\", \"Condition_B\": \"-\", \"Condition_C\": \"-\", \"Condition_D\": \"-\", \"ID\": \"A\"}, {\"Titer\": 9000, \"Virus\": \"Virus B\", \"Facet\": \"Facet B\", \"Condition_A\": \"+\", \"Condition_B\": \"+\", \"Condition_C\": \"-\", \"Condition_D\": \"-\", \"ID\": \"A_B\"}, {\"Titer\": 320000, \"Virus\": \"Virus B\", \"Facet\": \"Facet B\", \"Condition_A\": \"+\", \"Condition_B\": \"+\", \"Condition_C\": \"-\", \"Condition_D\": \"+\", \"ID\": \"A_B_D\"}, {\"Titer\": 1700000, \"Virus\": \"Virus B\", \"Facet\": \"Facet B\", \"Condition_A\": \"+\", \"Condition_B\": \"+\", \"Condition_C\": \"+\", \"Condition_D\": \"-\", \"ID\": \"A_B_C\"}, {\"Titer\": 200, \"Virus\": \"Virus C\", \"Facet\": \"Facet B\", \"Condition_A\": \"+\", \"Condition_B\": \"-\", \"Condition_C\": \"-\", \"Condition_D\": \"-\", \"ID\": \"A\"}, {\"Titer\": 9500, \"Virus\": \"Virus C\", \"Facet\": \"Facet B\", \"Condition_A\": \"+\", \"Condition_B\": \"+\", \"Condition_C\": \"-\", \"Condition_D\": \"-\", \"ID\": \"A_B\"}, {\"Titer\": 305000, \"Virus\": \"Virus C\", \"Facet\": \"Facet B\", \"Condition_A\": \"+\", \"Condition_B\": \"+\", \"Condition_C\": \"-\", \"Condition_D\": \"+\", \"ID\": \"A_B_D\"}, {\"Titer\": 130000, \"Virus\": \"Virus C\", \"Facet\": \"Facet B\", \"Condition_A\": \"+\", \"Condition_B\": \"+\", \"Condition_C\": \"+\", \"Condition_D\": \"-\", \"ID\": \"A_B_C\"}, {\"Titer\": 550, \"Virus\": \"Virus A\", \"Facet\": \"Facet C\", \"Condition_A\": \"+\", \"Condition_B\": \"-\", \"Condition_C\": \"-\", \"Condition_D\": \"-\", \"ID\": \"A\"}, {\"Titer\": 9500, \"Virus\": \"Virus A\", \"Facet\": \"Facet C\", \"Condition_A\": \"+\", \"Condition_B\": \"+\", \"Condition_C\": \"-\", \"Condition_D\": \"-\", \"ID\": \"A_B\"}, {\"Titer\": 120000, \"Virus\": \"Virus A\", \"Facet\": \"Facet C\", \"Condition_A\": \"+\", \"Condition_B\": \"+\", \"Condition_C\": \"-\", \"Condition_D\": \"+\", \"ID\": \"A_B_D\"}, {\"Titer\": 400000, \"Virus\": \"Virus A\", \"Facet\": \"Facet C\", \"Condition_A\": \"+\", \"Condition_B\": \"+\", \"Condition_C\": \"+\", \"Condition_D\": \"-\", \"ID\": \"A_B_C\"}, {\"Titer\": 600, \"Virus\": \"Virus B\", \"Facet\": \"Facet C\", \"Condition_A\": \"+\", \"Condition_B\": \"-\", \"Condition_C\": \"-\", \"Condition_D\": \"-\", \"ID\": \"A\"}, {\"Titer\": 18000, \"Virus\": \"Virus B\", \"Facet\": \"Facet C\", \"Condition_A\": \"+\", \"Condition_B\": \"+\", \"Condition_C\": \"-\", \"Condition_D\": \"-\", \"ID\": \"A_B\"}, {\"Titer\": 200000, \"Virus\": \"Virus B\", \"Facet\": \"Facet C\", \"Condition_A\": \"+\", \"Condition_B\": \"+\", \"Condition_C\": \"-\", \"Condition_D\": \"+\", \"ID\": \"A_B_D\"}, {\"Titer\": 1300000, \"Virus\": \"Virus B\", \"Facet\": \"Facet C\", \"Condition_A\": \"+\", \"Condition_B\": \"+\", \"Condition_C\": \"+\", \"Condition_D\": \"-\", \"ID\": \"A_B_C\"}, {\"Titer\": 400, \"Virus\": \"Virus C\", \"Facet\": \"Facet C\", \"Condition_A\": \"+\", \"Condition_B\": \"-\", \"Condition_C\": \"-\", \"Condition_D\": \"-\", \"ID\": \"A\"}, {\"Titer\": 5500, \"Virus\": \"Virus C\", \"Facet\": \"Facet C\", \"Condition_A\": \"+\", \"Condition_B\": \"+\", \"Condition_C\": \"-\", \"Condition_D\": \"-\", \"ID\": \"A_B\"}, {\"Titer\": 305000, \"Virus\": \"Virus C\", \"Facet\": \"Facet C\", \"Condition_A\": \"+\", \"Condition_B\": \"+\", \"Condition_C\": \"-\", \"Condition_D\": \"+\", \"ID\": \"A_B_D\"}, {\"Titer\": 130000, \"Virus\": \"Virus C\", \"Facet\": \"Facet C\", \"Condition_A\": \"+\", \"Condition_B\": \"+\", \"Condition_C\": \"+\", \"Condition_D\": \"-\", \"ID\": \"A_B_C\"}]}}, {\"mode\": \"vega-lite\"});\n",
       "</script>"
      ],
      "text/plain": [
       "alt.VConcatChart(...)"
      ]
     },
     "execution_count": 6,
     "metadata": {},
     "output_type": "execute_result"
    }
   ],
   "source": [
    "plot_titers(\n",
    "    data,\n",
    "    titer_col=\"Titer\",\n",
    "    condition_cols=[\"Condition_A\", \"Condition_B\", \"Condition_C\", \"Condition_D\"],\n",
    "    facet_col=\"Facet\",\n",
    "    shape_col=\"Virus\"\n",
    ")"
   ]
  },
  {
   "cell_type": "markdown",
   "metadata": {},
   "source": [
    "By default, the plot has a log scale, which is typically appropriate for visualizing titers. You can change this by setting `log_scale = False`."
   ]
  },
  {
   "cell_type": "code",
   "execution_count": 7,
   "metadata": {
    "execution": {
     "iopub.execute_input": "2025-03-20T18:18:54.143145Z",
     "iopub.status.busy": "2025-03-20T18:18:54.143067Z",
     "iopub.status.idle": "2025-03-20T18:18:54.167516Z",
     "shell.execute_reply": "2025-03-20T18:18:54.167277Z"
    }
   },
   "outputs": [
    {
     "data": {
      "text/html": [
       "\n",
       "<style>\n",
       "  #altair-viz-e28d7f5c6c394d2bac104d851759d9b1.vega-embed {\n",
       "    width: 100%;\n",
       "    display: flex;\n",
       "  }\n",
       "\n",
       "  #altair-viz-e28d7f5c6c394d2bac104d851759d9b1.vega-embed details,\n",
       "  #altair-viz-e28d7f5c6c394d2bac104d851759d9b1.vega-embed details summary {\n",
       "    position: relative;\n",
       "  }\n",
       "</style>\n",
       "<div id=\"altair-viz-e28d7f5c6c394d2bac104d851759d9b1\"></div>\n",
       "<script type=\"text/javascript\">\n",
       "  var VEGA_DEBUG = (typeof VEGA_DEBUG == \"undefined\") ? {} : VEGA_DEBUG;\n",
       "  (function(spec, embedOpt){\n",
       "    let outputDiv = document.currentScript.previousElementSibling;\n",
       "    if (outputDiv.id !== \"altair-viz-e28d7f5c6c394d2bac104d851759d9b1\") {\n",
       "      outputDiv = document.getElementById(\"altair-viz-e28d7f5c6c394d2bac104d851759d9b1\");\n",
       "    }\n",
       "\n",
       "    const paths = {\n",
       "      \"vega\": \"https://cdn.jsdelivr.net/npm/vega@5?noext\",\n",
       "      \"vega-lib\": \"https://cdn.jsdelivr.net/npm/vega-lib?noext\",\n",
       "      \"vega-lite\": \"https://cdn.jsdelivr.net/npm/vega-lite@5.20.1?noext\",\n",
       "      \"vega-embed\": \"https://cdn.jsdelivr.net/npm/vega-embed@6?noext\",\n",
       "    };\n",
       "\n",
       "    function maybeLoadScript(lib, version) {\n",
       "      var key = `${lib.replace(\"-\", \"\")}_version`;\n",
       "      return (VEGA_DEBUG[key] == version) ?\n",
       "        Promise.resolve(paths[lib]) :\n",
       "        new Promise(function(resolve, reject) {\n",
       "          var s = document.createElement('script');\n",
       "          document.getElementsByTagName(\"head\")[0].appendChild(s);\n",
       "          s.async = true;\n",
       "          s.onload = () => {\n",
       "            VEGA_DEBUG[key] = version;\n",
       "            return resolve(paths[lib]);\n",
       "          };\n",
       "          s.onerror = () => reject(`Error loading script: ${paths[lib]}`);\n",
       "          s.src = paths[lib];\n",
       "        });\n",
       "    }\n",
       "\n",
       "    function showError(err) {\n",
       "      outputDiv.innerHTML = `<div class=\"error\" style=\"color:red;\">${err}</div>`;\n",
       "      throw err;\n",
       "    }\n",
       "\n",
       "    function displayChart(vegaEmbed) {\n",
       "      vegaEmbed(outputDiv, spec, embedOpt)\n",
       "        .catch(err => showError(`Javascript Error: ${err.message}<br>This usually means there's a typo in your chart specification. See the javascript console for the full traceback.`));\n",
       "    }\n",
       "\n",
       "    if(typeof define === \"function\" && define.amd) {\n",
       "      requirejs.config({paths});\n",
       "      let deps = [\"vega-embed\"];\n",
       "      require(deps, displayChart, err => showError(`Error loading script: ${err.message}`));\n",
       "    } else {\n",
       "      maybeLoadScript(\"vega\", \"5\")\n",
       "        .then(() => maybeLoadScript(\"vega-lite\", \"5.20.1\"))\n",
       "        .then(() => maybeLoadScript(\"vega-embed\", \"6\"))\n",
       "        .catch(showError)\n",
       "        .then(() => displayChart(vegaEmbed));\n",
       "    }\n",
       "  })({\"config\": {\"view\": {\"continuousWidth\": 300, \"continuousHeight\": 300}}, \"vconcat\": [{\"mark\": {\"type\": \"point\", \"filled\": true, \"size\": 100}, \"encoding\": {\"color\": {\"field\": \"Virus\", \"legend\": {\"labelFontSize\": 14, \"title\": \"Virus\", \"titleFontSize\": 16}, \"type\": \"nominal\"}, \"column\": {\"field\": \"Facet\", \"header\": {\"labelFontSize\": 16, \"labels\": true, \"title\": null}, \"type\": \"nominal\"}, \"tooltip\": [{\"field\": \"Titer\", \"type\": \"quantitative\"}, {\"field\": \"Virus\", \"type\": \"nominal\"}, {\"field\": \"Facet\", \"type\": \"nominal\"}, {\"field\": \"Condition_A\", \"type\": \"nominal\"}, {\"field\": \"Condition_B\", \"type\": \"nominal\"}, {\"field\": \"Condition_C\", \"type\": \"nominal\"}, {\"field\": \"Condition_D\", \"type\": \"nominal\"}], \"x\": {\"axis\": {\"domain\": false, \"grid\": false, \"labelFontSize\": 14, \"labels\": false, \"ticks\": true, \"title\": null}, \"field\": \"ID\", \"type\": \"nominal\"}, \"y\": {\"axis\": {\"labelFontSize\": 14, \"titleFontSize\": 16}, \"field\": \"Titer\", \"scale\": {\"type\": \"linear\"}, \"title\": \"Titer (IU/ml)\", \"type\": \"quantitative\"}}, \"width\": 300}, {\"mark\": {\"type\": \"text\", \"size\": 15}, \"encoding\": {\"column\": {\"field\": \"Facet\", \"header\": {\"labels\": false, \"title\": null}, \"type\": \"nominal\"}, \"text\": {\"field\": \"Text\", \"type\": \"nominal\"}, \"x\": {\"axis\": null, \"field\": \"ID\", \"type\": \"nominal\"}, \"y\": {\"axis\": {\"domain\": false, \"grid\": false, \"labelFontSize\": 14, \"ticks\": false, \"title\": null}, \"field\": \"Condition\", \"type\": \"nominal\"}}, \"transform\": [{\"fold\": [\"Condition_A\", \"Condition_B\", \"Condition_C\", \"Condition_D\"], \"as\": [\"Condition\", \"Text\"]}], \"view\": {\"strokeWidth\": 1e-05}, \"width\": 300}], \"data\": {\"name\": \"data-48e68cca907ae27f3539e429469ea545\"}, \"spacing\": 0, \"title\": {\"text\": \"\", \"align\": \"center\", \"anchor\": \"middle\", \"fontSize\": 20, \"offset\": 20}, \"$schema\": \"https://vega.github.io/schema/vega-lite/v5.20.1.json\", \"datasets\": {\"data-48e68cca907ae27f3539e429469ea545\": [{\"Titer\": 1000, \"Virus\": \"Virus A\", \"Facet\": \"Facet A\", \"Condition_A\": \"+\", \"Condition_B\": \"-\", \"Condition_C\": \"-\", \"Condition_D\": \"-\", \"ID\": \"A\"}, {\"Titer\": 10000, \"Virus\": \"Virus A\", \"Facet\": \"Facet A\", \"Condition_A\": \"+\", \"Condition_B\": \"+\", \"Condition_C\": \"-\", \"Condition_D\": \"-\", \"ID\": \"A_B\"}, {\"Titer\": 100000, \"Virus\": \"Virus A\", \"Facet\": \"Facet A\", \"Condition_A\": \"+\", \"Condition_B\": \"+\", \"Condition_C\": \"-\", \"Condition_D\": \"+\", \"ID\": \"A_B_D\"}, {\"Titer\": 500000, \"Virus\": \"Virus A\", \"Facet\": \"Facet A\", \"Condition_A\": \"+\", \"Condition_B\": \"+\", \"Condition_C\": \"+\", \"Condition_D\": \"-\", \"ID\": \"A_B_C\"}, {\"Titer\": 500, \"Virus\": \"Virus B\", \"Facet\": \"Facet A\", \"Condition_A\": \"+\", \"Condition_B\": \"-\", \"Condition_C\": \"-\", \"Condition_D\": \"-\", \"ID\": \"A\"}, {\"Titer\": 15000, \"Virus\": \"Virus B\", \"Facet\": \"Facet A\", \"Condition_A\": \"+\", \"Condition_B\": \"+\", \"Condition_C\": \"-\", \"Condition_D\": \"-\", \"ID\": \"A_B\"}, {\"Titer\": 150000, \"Virus\": \"Virus B\", \"Facet\": \"Facet A\", \"Condition_A\": \"+\", \"Condition_B\": \"+\", \"Condition_C\": \"-\", \"Condition_D\": \"+\", \"ID\": \"A_B_D\"}, {\"Titer\": 1000000, \"Virus\": \"Virus B\", \"Facet\": \"Facet A\", \"Condition_A\": \"+\", \"Condition_B\": \"+\", \"Condition_C\": \"+\", \"Condition_D\": \"-\", \"ID\": \"A_B_C\"}, {\"Titer\": 700, \"Virus\": \"Virus C\", \"Facet\": \"Facet A\", \"Condition_A\": \"+\", \"Condition_B\": \"-\", \"Condition_C\": \"-\", \"Condition_D\": \"-\", \"ID\": \"A\"}, {\"Titer\": 5000, \"Virus\": \"Virus C\", \"Facet\": \"Facet A\", \"Condition_A\": \"+\", \"Condition_B\": \"+\", \"Condition_C\": \"-\", \"Condition_D\": \"-\", \"ID\": \"A_B\"}, {\"Titer\": 300000, \"Virus\": \"Virus C\", \"Facet\": \"Facet A\", \"Condition_A\": \"+\", \"Condition_B\": \"+\", \"Condition_C\": \"-\", \"Condition_D\": \"+\", \"ID\": \"A_B_D\"}, {\"Titer\": 100000, \"Virus\": \"Virus C\", \"Facet\": \"Facet A\", \"Condition_A\": \"+\", \"Condition_B\": \"+\", \"Condition_C\": \"+\", \"Condition_D\": \"-\", \"ID\": \"A_B_C\"}, {\"Titer\": 1750, \"Virus\": \"Virus A\", \"Facet\": \"Facet B\", \"Condition_A\": \"+\", \"Condition_B\": \"-\", \"Condition_C\": \"-\", \"Condition_D\": \"-\", \"ID\": \"A\"}, {\"Titer\": 9500, \"Virus\": \"Virus A\", \"Facet\": \"Facet B\", \"Condition_A\": \"+\", \"Condition_B\": \"+\", \"Condition_C\": \"-\", \"Condition_D\": \"-\", \"ID\": \"A_B\"}, {\"Titer\": 123000, \"Virus\": \"Virus A\", \"Facet\": \"Facet B\", \"Condition_A\": \"+\", \"Condition_B\": \"+\", \"Condition_C\": \"-\", \"Condition_D\": \"+\", \"ID\": \"A_B_D\"}, {\"Titer\": 200000, \"Virus\": \"Virus A\", \"Facet\": \"Facet B\", \"Condition_A\": \"+\", \"Condition_B\": \"+\", \"Condition_C\": \"+\", \"Condition_D\": \"-\", \"ID\": \"A_B_C\"}, {\"Titer\": 640, \"Virus\": \"Virus B\", \"Facet\": \"Facet B\", \"Condition_A\": \"+\", \"Condition_B\": \"-\", \"Condition_C\": \"-\", \"Condition_D\": \"-\", \"ID\": \"A\"}, {\"Titer\": 9000, \"Virus\": \"Virus B\", \"Facet\": \"Facet B\", \"Condition_A\": \"+\", \"Condition_B\": \"+\", \"Condition_C\": \"-\", \"Condition_D\": \"-\", \"ID\": \"A_B\"}, {\"Titer\": 320000, \"Virus\": \"Virus B\", \"Facet\": \"Facet B\", \"Condition_A\": \"+\", \"Condition_B\": \"+\", \"Condition_C\": \"-\", \"Condition_D\": \"+\", \"ID\": \"A_B_D\"}, {\"Titer\": 1700000, \"Virus\": \"Virus B\", \"Facet\": \"Facet B\", \"Condition_A\": \"+\", \"Condition_B\": \"+\", \"Condition_C\": \"+\", \"Condition_D\": \"-\", \"ID\": \"A_B_C\"}, {\"Titer\": 200, \"Virus\": \"Virus C\", \"Facet\": \"Facet B\", \"Condition_A\": \"+\", \"Condition_B\": \"-\", \"Condition_C\": \"-\", \"Condition_D\": \"-\", \"ID\": \"A\"}, {\"Titer\": 9500, \"Virus\": \"Virus C\", \"Facet\": \"Facet B\", \"Condition_A\": \"+\", \"Condition_B\": \"+\", \"Condition_C\": \"-\", \"Condition_D\": \"-\", \"ID\": \"A_B\"}, {\"Titer\": 305000, \"Virus\": \"Virus C\", \"Facet\": \"Facet B\", \"Condition_A\": \"+\", \"Condition_B\": \"+\", \"Condition_C\": \"-\", \"Condition_D\": \"+\", \"ID\": \"A_B_D\"}, {\"Titer\": 130000, \"Virus\": \"Virus C\", \"Facet\": \"Facet B\", \"Condition_A\": \"+\", \"Condition_B\": \"+\", \"Condition_C\": \"+\", \"Condition_D\": \"-\", \"ID\": \"A_B_C\"}, {\"Titer\": 550, \"Virus\": \"Virus A\", \"Facet\": \"Facet C\", \"Condition_A\": \"+\", \"Condition_B\": \"-\", \"Condition_C\": \"-\", \"Condition_D\": \"-\", \"ID\": \"A\"}, {\"Titer\": 9500, \"Virus\": \"Virus A\", \"Facet\": \"Facet C\", \"Condition_A\": \"+\", \"Condition_B\": \"+\", \"Condition_C\": \"-\", \"Condition_D\": \"-\", \"ID\": \"A_B\"}, {\"Titer\": 120000, \"Virus\": \"Virus A\", \"Facet\": \"Facet C\", \"Condition_A\": \"+\", \"Condition_B\": \"+\", \"Condition_C\": \"-\", \"Condition_D\": \"+\", \"ID\": \"A_B_D\"}, {\"Titer\": 400000, \"Virus\": \"Virus A\", \"Facet\": \"Facet C\", \"Condition_A\": \"+\", \"Condition_B\": \"+\", \"Condition_C\": \"+\", \"Condition_D\": \"-\", \"ID\": \"A_B_C\"}, {\"Titer\": 600, \"Virus\": \"Virus B\", \"Facet\": \"Facet C\", \"Condition_A\": \"+\", \"Condition_B\": \"-\", \"Condition_C\": \"-\", \"Condition_D\": \"-\", \"ID\": \"A\"}, {\"Titer\": 18000, \"Virus\": \"Virus B\", \"Facet\": \"Facet C\", \"Condition_A\": \"+\", \"Condition_B\": \"+\", \"Condition_C\": \"-\", \"Condition_D\": \"-\", \"ID\": \"A_B\"}, {\"Titer\": 200000, \"Virus\": \"Virus B\", \"Facet\": \"Facet C\", \"Condition_A\": \"+\", \"Condition_B\": \"+\", \"Condition_C\": \"-\", \"Condition_D\": \"+\", \"ID\": \"A_B_D\"}, {\"Titer\": 1300000, \"Virus\": \"Virus B\", \"Facet\": \"Facet C\", \"Condition_A\": \"+\", \"Condition_B\": \"+\", \"Condition_C\": \"+\", \"Condition_D\": \"-\", \"ID\": \"A_B_C\"}, {\"Titer\": 400, \"Virus\": \"Virus C\", \"Facet\": \"Facet C\", \"Condition_A\": \"+\", \"Condition_B\": \"-\", \"Condition_C\": \"-\", \"Condition_D\": \"-\", \"ID\": \"A\"}, {\"Titer\": 5500, \"Virus\": \"Virus C\", \"Facet\": \"Facet C\", \"Condition_A\": \"+\", \"Condition_B\": \"+\", \"Condition_C\": \"-\", \"Condition_D\": \"-\", \"ID\": \"A_B\"}, {\"Titer\": 305000, \"Virus\": \"Virus C\", \"Facet\": \"Facet C\", \"Condition_A\": \"+\", \"Condition_B\": \"+\", \"Condition_C\": \"-\", \"Condition_D\": \"+\", \"ID\": \"A_B_D\"}, {\"Titer\": 130000, \"Virus\": \"Virus C\", \"Facet\": \"Facet C\", \"Condition_A\": \"+\", \"Condition_B\": \"+\", \"Condition_C\": \"+\", \"Condition_D\": \"-\", \"ID\": \"A_B_C\"}]}}, {\"mode\": \"vega-lite\"});\n",
       "</script>"
      ],
      "text/plain": [
       "alt.VConcatChart(...)"
      ]
     },
     "execution_count": 7,
     "metadata": {},
     "output_type": "execute_result"
    }
   ],
   "source": [
    "plot_titers(\n",
    "    data,\n",
    "    titer_col=\"Titer\",\n",
    "    condition_cols=[\"Condition_A\", \"Condition_B\", \"Condition_C\", \"Condition_D\"],\n",
    "    facet_col=\"Facet\",\n",
    "    color_col=\"Virus\",\n",
    "    log_scale = False\n",
    ")"
   ]
  },
  {
   "cell_type": "markdown",
   "metadata": {},
   "source": [
    "By default, the plot has interactive tooltips showing the value for each column in `data`. You can remove this by setting `interactive = False`."
   ]
  },
  {
   "cell_type": "code",
   "execution_count": 8,
   "metadata": {
    "execution": {
     "iopub.execute_input": "2025-03-20T18:18:54.168571Z",
     "iopub.status.busy": "2025-03-20T18:18:54.168495Z",
     "iopub.status.idle": "2025-03-20T18:18:54.182073Z",
     "shell.execute_reply": "2025-03-20T18:18:54.181859Z"
    }
   },
   "outputs": [
    {
     "data": {
      "text/html": [
       "\n",
       "<style>\n",
       "  #altair-viz-7b30fd2a4bd5402b98396679e4317e90.vega-embed {\n",
       "    width: 100%;\n",
       "    display: flex;\n",
       "  }\n",
       "\n",
       "  #altair-viz-7b30fd2a4bd5402b98396679e4317e90.vega-embed details,\n",
       "  #altair-viz-7b30fd2a4bd5402b98396679e4317e90.vega-embed details summary {\n",
       "    position: relative;\n",
       "  }\n",
       "</style>\n",
       "<div id=\"altair-viz-7b30fd2a4bd5402b98396679e4317e90\"></div>\n",
       "<script type=\"text/javascript\">\n",
       "  var VEGA_DEBUG = (typeof VEGA_DEBUG == \"undefined\") ? {} : VEGA_DEBUG;\n",
       "  (function(spec, embedOpt){\n",
       "    let outputDiv = document.currentScript.previousElementSibling;\n",
       "    if (outputDiv.id !== \"altair-viz-7b30fd2a4bd5402b98396679e4317e90\") {\n",
       "      outputDiv = document.getElementById(\"altair-viz-7b30fd2a4bd5402b98396679e4317e90\");\n",
       "    }\n",
       "\n",
       "    const paths = {\n",
       "      \"vega\": \"https://cdn.jsdelivr.net/npm/vega@5?noext\",\n",
       "      \"vega-lib\": \"https://cdn.jsdelivr.net/npm/vega-lib?noext\",\n",
       "      \"vega-lite\": \"https://cdn.jsdelivr.net/npm/vega-lite@5.20.1?noext\",\n",
       "      \"vega-embed\": \"https://cdn.jsdelivr.net/npm/vega-embed@6?noext\",\n",
       "    };\n",
       "\n",
       "    function maybeLoadScript(lib, version) {\n",
       "      var key = `${lib.replace(\"-\", \"\")}_version`;\n",
       "      return (VEGA_DEBUG[key] == version) ?\n",
       "        Promise.resolve(paths[lib]) :\n",
       "        new Promise(function(resolve, reject) {\n",
       "          var s = document.createElement('script');\n",
       "          document.getElementsByTagName(\"head\")[0].appendChild(s);\n",
       "          s.async = true;\n",
       "          s.onload = () => {\n",
       "            VEGA_DEBUG[key] = version;\n",
       "            return resolve(paths[lib]);\n",
       "          };\n",
       "          s.onerror = () => reject(`Error loading script: ${paths[lib]}`);\n",
       "          s.src = paths[lib];\n",
       "        });\n",
       "    }\n",
       "\n",
       "    function showError(err) {\n",
       "      outputDiv.innerHTML = `<div class=\"error\" style=\"color:red;\">${err}</div>`;\n",
       "      throw err;\n",
       "    }\n",
       "\n",
       "    function displayChart(vegaEmbed) {\n",
       "      vegaEmbed(outputDiv, spec, embedOpt)\n",
       "        .catch(err => showError(`Javascript Error: ${err.message}<br>This usually means there's a typo in your chart specification. See the javascript console for the full traceback.`));\n",
       "    }\n",
       "\n",
       "    if(typeof define === \"function\" && define.amd) {\n",
       "      requirejs.config({paths});\n",
       "      let deps = [\"vega-embed\"];\n",
       "      require(deps, displayChart, err => showError(`Error loading script: ${err.message}`));\n",
       "    } else {\n",
       "      maybeLoadScript(\"vega\", \"5\")\n",
       "        .then(() => maybeLoadScript(\"vega-lite\", \"5.20.1\"))\n",
       "        .then(() => maybeLoadScript(\"vega-embed\", \"6\"))\n",
       "        .catch(showError)\n",
       "        .then(() => displayChart(vegaEmbed));\n",
       "    }\n",
       "  })({\"config\": {\"view\": {\"continuousWidth\": 300, \"continuousHeight\": 300}}, \"vconcat\": [{\"mark\": {\"type\": \"point\", \"filled\": true, \"size\": 100}, \"encoding\": {\"color\": {\"field\": \"Virus\", \"legend\": {\"labelFontSize\": 14, \"title\": \"Virus\", \"titleFontSize\": 16}, \"type\": \"nominal\"}, \"column\": {\"field\": \"Facet\", \"header\": {\"labelFontSize\": 16, \"labels\": true, \"title\": null}, \"type\": \"nominal\"}, \"x\": {\"axis\": {\"domain\": false, \"grid\": false, \"labelFontSize\": 14, \"labels\": false, \"ticks\": true, \"title\": null}, \"field\": \"ID\", \"type\": \"nominal\"}, \"y\": {\"axis\": {\"labelFontSize\": 14, \"titleFontSize\": 16}, \"field\": \"Titer\", \"scale\": {\"type\": \"log\"}, \"title\": \"Titer (IU/ml)\", \"type\": \"quantitative\"}}, \"width\": 300}, {\"mark\": {\"type\": \"text\", \"size\": 15}, \"encoding\": {\"column\": {\"field\": \"Facet\", \"header\": {\"labels\": false, \"title\": null}, \"type\": \"nominal\"}, \"text\": {\"field\": \"Text\", \"type\": \"nominal\"}, \"x\": {\"axis\": null, \"field\": \"ID\", \"type\": \"nominal\"}, \"y\": {\"axis\": {\"domain\": false, \"grid\": false, \"labelFontSize\": 14, \"ticks\": false, \"title\": null}, \"field\": \"Condition\", \"type\": \"nominal\"}}, \"transform\": [{\"fold\": [\"Condition_A\", \"Condition_B\", \"Condition_C\", \"Condition_D\"], \"as\": [\"Condition\", \"Text\"]}], \"view\": {\"strokeWidth\": 1e-05}, \"width\": 300}], \"data\": {\"name\": \"data-48e68cca907ae27f3539e429469ea545\"}, \"spacing\": 0, \"title\": {\"text\": \"\", \"align\": \"center\", \"anchor\": \"middle\", \"fontSize\": 20, \"offset\": 20}, \"$schema\": \"https://vega.github.io/schema/vega-lite/v5.20.1.json\", \"datasets\": {\"data-48e68cca907ae27f3539e429469ea545\": [{\"Titer\": 1000, \"Virus\": \"Virus A\", \"Facet\": \"Facet A\", \"Condition_A\": \"+\", \"Condition_B\": \"-\", \"Condition_C\": \"-\", \"Condition_D\": \"-\", \"ID\": \"A\"}, {\"Titer\": 10000, \"Virus\": \"Virus A\", \"Facet\": \"Facet A\", \"Condition_A\": \"+\", \"Condition_B\": \"+\", \"Condition_C\": \"-\", \"Condition_D\": \"-\", \"ID\": \"A_B\"}, {\"Titer\": 100000, \"Virus\": \"Virus A\", \"Facet\": \"Facet A\", \"Condition_A\": \"+\", \"Condition_B\": \"+\", \"Condition_C\": \"-\", \"Condition_D\": \"+\", \"ID\": \"A_B_D\"}, {\"Titer\": 500000, \"Virus\": \"Virus A\", \"Facet\": \"Facet A\", \"Condition_A\": \"+\", \"Condition_B\": \"+\", \"Condition_C\": \"+\", \"Condition_D\": \"-\", \"ID\": \"A_B_C\"}, {\"Titer\": 500, \"Virus\": \"Virus B\", \"Facet\": \"Facet A\", \"Condition_A\": \"+\", \"Condition_B\": \"-\", \"Condition_C\": \"-\", \"Condition_D\": \"-\", \"ID\": \"A\"}, {\"Titer\": 15000, \"Virus\": \"Virus B\", \"Facet\": \"Facet A\", \"Condition_A\": \"+\", \"Condition_B\": \"+\", \"Condition_C\": \"-\", \"Condition_D\": \"-\", \"ID\": \"A_B\"}, {\"Titer\": 150000, \"Virus\": \"Virus B\", \"Facet\": \"Facet A\", \"Condition_A\": \"+\", \"Condition_B\": \"+\", \"Condition_C\": \"-\", \"Condition_D\": \"+\", \"ID\": \"A_B_D\"}, {\"Titer\": 1000000, \"Virus\": \"Virus B\", \"Facet\": \"Facet A\", \"Condition_A\": \"+\", \"Condition_B\": \"+\", \"Condition_C\": \"+\", \"Condition_D\": \"-\", \"ID\": \"A_B_C\"}, {\"Titer\": 700, \"Virus\": \"Virus C\", \"Facet\": \"Facet A\", \"Condition_A\": \"+\", \"Condition_B\": \"-\", \"Condition_C\": \"-\", \"Condition_D\": \"-\", \"ID\": \"A\"}, {\"Titer\": 5000, \"Virus\": \"Virus C\", \"Facet\": \"Facet A\", \"Condition_A\": \"+\", \"Condition_B\": \"+\", \"Condition_C\": \"-\", \"Condition_D\": \"-\", \"ID\": \"A_B\"}, {\"Titer\": 300000, \"Virus\": \"Virus C\", \"Facet\": \"Facet A\", \"Condition_A\": \"+\", \"Condition_B\": \"+\", \"Condition_C\": \"-\", \"Condition_D\": \"+\", \"ID\": \"A_B_D\"}, {\"Titer\": 100000, \"Virus\": \"Virus C\", \"Facet\": \"Facet A\", \"Condition_A\": \"+\", \"Condition_B\": \"+\", \"Condition_C\": \"+\", \"Condition_D\": \"-\", \"ID\": \"A_B_C\"}, {\"Titer\": 1750, \"Virus\": \"Virus A\", \"Facet\": \"Facet B\", \"Condition_A\": \"+\", \"Condition_B\": \"-\", \"Condition_C\": \"-\", \"Condition_D\": \"-\", \"ID\": \"A\"}, {\"Titer\": 9500, \"Virus\": \"Virus A\", \"Facet\": \"Facet B\", \"Condition_A\": \"+\", \"Condition_B\": \"+\", \"Condition_C\": \"-\", \"Condition_D\": \"-\", \"ID\": \"A_B\"}, {\"Titer\": 123000, \"Virus\": \"Virus A\", \"Facet\": \"Facet B\", \"Condition_A\": \"+\", \"Condition_B\": \"+\", \"Condition_C\": \"-\", \"Condition_D\": \"+\", \"ID\": \"A_B_D\"}, {\"Titer\": 200000, \"Virus\": \"Virus A\", \"Facet\": \"Facet B\", \"Condition_A\": \"+\", \"Condition_B\": \"+\", \"Condition_C\": \"+\", \"Condition_D\": \"-\", \"ID\": \"A_B_C\"}, {\"Titer\": 640, \"Virus\": \"Virus B\", \"Facet\": \"Facet B\", \"Condition_A\": \"+\", \"Condition_B\": \"-\", \"Condition_C\": \"-\", \"Condition_D\": \"-\", \"ID\": \"A\"}, {\"Titer\": 9000, \"Virus\": \"Virus B\", \"Facet\": \"Facet B\", \"Condition_A\": \"+\", \"Condition_B\": \"+\", \"Condition_C\": \"-\", \"Condition_D\": \"-\", \"ID\": \"A_B\"}, {\"Titer\": 320000, \"Virus\": \"Virus B\", \"Facet\": \"Facet B\", \"Condition_A\": \"+\", \"Condition_B\": \"+\", \"Condition_C\": \"-\", \"Condition_D\": \"+\", \"ID\": \"A_B_D\"}, {\"Titer\": 1700000, \"Virus\": \"Virus B\", \"Facet\": \"Facet B\", \"Condition_A\": \"+\", \"Condition_B\": \"+\", \"Condition_C\": \"+\", \"Condition_D\": \"-\", \"ID\": \"A_B_C\"}, {\"Titer\": 200, \"Virus\": \"Virus C\", \"Facet\": \"Facet B\", \"Condition_A\": \"+\", \"Condition_B\": \"-\", \"Condition_C\": \"-\", \"Condition_D\": \"-\", \"ID\": \"A\"}, {\"Titer\": 9500, \"Virus\": \"Virus C\", \"Facet\": \"Facet B\", \"Condition_A\": \"+\", \"Condition_B\": \"+\", \"Condition_C\": \"-\", \"Condition_D\": \"-\", \"ID\": \"A_B\"}, {\"Titer\": 305000, \"Virus\": \"Virus C\", \"Facet\": \"Facet B\", \"Condition_A\": \"+\", \"Condition_B\": \"+\", \"Condition_C\": \"-\", \"Condition_D\": \"+\", \"ID\": \"A_B_D\"}, {\"Titer\": 130000, \"Virus\": \"Virus C\", \"Facet\": \"Facet B\", \"Condition_A\": \"+\", \"Condition_B\": \"+\", \"Condition_C\": \"+\", \"Condition_D\": \"-\", \"ID\": \"A_B_C\"}, {\"Titer\": 550, \"Virus\": \"Virus A\", \"Facet\": \"Facet C\", \"Condition_A\": \"+\", \"Condition_B\": \"-\", \"Condition_C\": \"-\", \"Condition_D\": \"-\", \"ID\": \"A\"}, {\"Titer\": 9500, \"Virus\": \"Virus A\", \"Facet\": \"Facet C\", \"Condition_A\": \"+\", \"Condition_B\": \"+\", \"Condition_C\": \"-\", \"Condition_D\": \"-\", \"ID\": \"A_B\"}, {\"Titer\": 120000, \"Virus\": \"Virus A\", \"Facet\": \"Facet C\", \"Condition_A\": \"+\", \"Condition_B\": \"+\", \"Condition_C\": \"-\", \"Condition_D\": \"+\", \"ID\": \"A_B_D\"}, {\"Titer\": 400000, \"Virus\": \"Virus A\", \"Facet\": \"Facet C\", \"Condition_A\": \"+\", \"Condition_B\": \"+\", \"Condition_C\": \"+\", \"Condition_D\": \"-\", \"ID\": \"A_B_C\"}, {\"Titer\": 600, \"Virus\": \"Virus B\", \"Facet\": \"Facet C\", \"Condition_A\": \"+\", \"Condition_B\": \"-\", \"Condition_C\": \"-\", \"Condition_D\": \"-\", \"ID\": \"A\"}, {\"Titer\": 18000, \"Virus\": \"Virus B\", \"Facet\": \"Facet C\", \"Condition_A\": \"+\", \"Condition_B\": \"+\", \"Condition_C\": \"-\", \"Condition_D\": \"-\", \"ID\": \"A_B\"}, {\"Titer\": 200000, \"Virus\": \"Virus B\", \"Facet\": \"Facet C\", \"Condition_A\": \"+\", \"Condition_B\": \"+\", \"Condition_C\": \"-\", \"Condition_D\": \"+\", \"ID\": \"A_B_D\"}, {\"Titer\": 1300000, \"Virus\": \"Virus B\", \"Facet\": \"Facet C\", \"Condition_A\": \"+\", \"Condition_B\": \"+\", \"Condition_C\": \"+\", \"Condition_D\": \"-\", \"ID\": \"A_B_C\"}, {\"Titer\": 400, \"Virus\": \"Virus C\", \"Facet\": \"Facet C\", \"Condition_A\": \"+\", \"Condition_B\": \"-\", \"Condition_C\": \"-\", \"Condition_D\": \"-\", \"ID\": \"A\"}, {\"Titer\": 5500, \"Virus\": \"Virus C\", \"Facet\": \"Facet C\", \"Condition_A\": \"+\", \"Condition_B\": \"+\", \"Condition_C\": \"-\", \"Condition_D\": \"-\", \"ID\": \"A_B\"}, {\"Titer\": 305000, \"Virus\": \"Virus C\", \"Facet\": \"Facet C\", \"Condition_A\": \"+\", \"Condition_B\": \"+\", \"Condition_C\": \"-\", \"Condition_D\": \"+\", \"ID\": \"A_B_D\"}, {\"Titer\": 130000, \"Virus\": \"Virus C\", \"Facet\": \"Facet C\", \"Condition_A\": \"+\", \"Condition_B\": \"+\", \"Condition_C\": \"+\", \"Condition_D\": \"-\", \"ID\": \"A_B_C\"}]}}, {\"mode\": \"vega-lite\"});\n",
       "</script>"
      ],
      "text/plain": [
       "alt.VConcatChart(...)"
      ]
     },
     "execution_count": 8,
     "metadata": {},
     "output_type": "execute_result"
    }
   ],
   "source": [
    "plot_titers(\n",
    "    data,\n",
    "    titer_col=\"Titer\",\n",
    "    condition_cols=[\"Condition_A\", \"Condition_B\", \"Condition_C\", \"Condition_D\"],\n",
    "    facet_col=\"Facet\",\n",
    "    color_col=\"Virus\",\n",
    "    interactive = False\n",
    ")"
   ]
  },
  {
   "cell_type": "markdown",
   "metadata": {},
   "source": [
    "You can configure the appearance of the title, y-axis title, and facet titles with the following arguments:"
   ]
  },
  {
   "cell_type": "code",
   "execution_count": 9,
   "metadata": {
    "execution": {
     "iopub.execute_input": "2025-03-20T18:18:54.183087Z",
     "iopub.status.busy": "2025-03-20T18:18:54.183010Z",
     "iopub.status.idle": "2025-03-20T18:18:54.207469Z",
     "shell.execute_reply": "2025-03-20T18:18:54.207244Z"
    }
   },
   "outputs": [
    {
     "data": {
      "text/html": [
       "\n",
       "<style>\n",
       "  #altair-viz-3734b6d7683b446cbdd9bab75c59fd16.vega-embed {\n",
       "    width: 100%;\n",
       "    display: flex;\n",
       "  }\n",
       "\n",
       "  #altair-viz-3734b6d7683b446cbdd9bab75c59fd16.vega-embed details,\n",
       "  #altair-viz-3734b6d7683b446cbdd9bab75c59fd16.vega-embed details summary {\n",
       "    position: relative;\n",
       "  }\n",
       "</style>\n",
       "<div id=\"altair-viz-3734b6d7683b446cbdd9bab75c59fd16\"></div>\n",
       "<script type=\"text/javascript\">\n",
       "  var VEGA_DEBUG = (typeof VEGA_DEBUG == \"undefined\") ? {} : VEGA_DEBUG;\n",
       "  (function(spec, embedOpt){\n",
       "    let outputDiv = document.currentScript.previousElementSibling;\n",
       "    if (outputDiv.id !== \"altair-viz-3734b6d7683b446cbdd9bab75c59fd16\") {\n",
       "      outputDiv = document.getElementById(\"altair-viz-3734b6d7683b446cbdd9bab75c59fd16\");\n",
       "    }\n",
       "\n",
       "    const paths = {\n",
       "      \"vega\": \"https://cdn.jsdelivr.net/npm/vega@5?noext\",\n",
       "      \"vega-lib\": \"https://cdn.jsdelivr.net/npm/vega-lib?noext\",\n",
       "      \"vega-lite\": \"https://cdn.jsdelivr.net/npm/vega-lite@5.20.1?noext\",\n",
       "      \"vega-embed\": \"https://cdn.jsdelivr.net/npm/vega-embed@6?noext\",\n",
       "    };\n",
       "\n",
       "    function maybeLoadScript(lib, version) {\n",
       "      var key = `${lib.replace(\"-\", \"\")}_version`;\n",
       "      return (VEGA_DEBUG[key] == version) ?\n",
       "        Promise.resolve(paths[lib]) :\n",
       "        new Promise(function(resolve, reject) {\n",
       "          var s = document.createElement('script');\n",
       "          document.getElementsByTagName(\"head\")[0].appendChild(s);\n",
       "          s.async = true;\n",
       "          s.onload = () => {\n",
       "            VEGA_DEBUG[key] = version;\n",
       "            return resolve(paths[lib]);\n",
       "          };\n",
       "          s.onerror = () => reject(`Error loading script: ${paths[lib]}`);\n",
       "          s.src = paths[lib];\n",
       "        });\n",
       "    }\n",
       "\n",
       "    function showError(err) {\n",
       "      outputDiv.innerHTML = `<div class=\"error\" style=\"color:red;\">${err}</div>`;\n",
       "      throw err;\n",
       "    }\n",
       "\n",
       "    function displayChart(vegaEmbed) {\n",
       "      vegaEmbed(outputDiv, spec, embedOpt)\n",
       "        .catch(err => showError(`Javascript Error: ${err.message}<br>This usually means there's a typo in your chart specification. See the javascript console for the full traceback.`));\n",
       "    }\n",
       "\n",
       "    if(typeof define === \"function\" && define.amd) {\n",
       "      requirejs.config({paths});\n",
       "      let deps = [\"vega-embed\"];\n",
       "      require(deps, displayChart, err => showError(`Error loading script: ${err.message}`));\n",
       "    } else {\n",
       "      maybeLoadScript(\"vega\", \"5\")\n",
       "        .then(() => maybeLoadScript(\"vega-lite\", \"5.20.1\"))\n",
       "        .then(() => maybeLoadScript(\"vega-embed\", \"6\"))\n",
       "        .catch(showError)\n",
       "        .then(() => displayChart(vegaEmbed));\n",
       "    }\n",
       "  })({\"config\": {\"view\": {\"continuousWidth\": 300, \"continuousHeight\": 300}}, \"vconcat\": [{\"mark\": {\"type\": \"point\", \"filled\": true, \"size\": 100}, \"encoding\": {\"color\": {\"field\": \"Virus\", \"legend\": {\"labelFontSize\": 14, \"title\": \"Virus\", \"titleFontSize\": 16}, \"type\": \"nominal\"}, \"column\": {\"field\": \"Facet\", \"header\": {\"labelFontSize\": 16, \"labels\": false, \"title\": null}, \"type\": \"nominal\"}, \"tooltip\": [{\"field\": \"Titer\", \"type\": \"quantitative\"}, {\"field\": \"Virus\", \"type\": \"nominal\"}, {\"field\": \"Facet\", \"type\": \"nominal\"}, {\"field\": \"Condition_A\", \"type\": \"nominal\"}, {\"field\": \"Condition_B\", \"type\": \"nominal\"}, {\"field\": \"Condition_C\", \"type\": \"nominal\"}, {\"field\": \"Condition_D\", \"type\": \"nominal\"}], \"x\": {\"axis\": {\"domain\": false, \"grid\": false, \"labelFontSize\": 14, \"labels\": false, \"ticks\": true, \"title\": null}, \"field\": \"ID\", \"type\": \"nominal\"}, \"y\": {\"axis\": {\"labelFontSize\": 14, \"titleFontSize\": 16}, \"field\": \"Titer\", \"scale\": {\"type\": \"log\"}, \"title\": \"Titer\", \"type\": \"quantitative\"}}, \"width\": 300}, {\"mark\": {\"type\": \"text\", \"size\": 15}, \"encoding\": {\"column\": {\"field\": \"Facet\", \"header\": {\"labels\": false, \"title\": null}, \"type\": \"nominal\"}, \"text\": {\"field\": \"Text\", \"type\": \"nominal\"}, \"x\": {\"axis\": null, \"field\": \"ID\", \"type\": \"nominal\"}, \"y\": {\"axis\": {\"domain\": false, \"grid\": false, \"labelFontSize\": 14, \"ticks\": false, \"title\": null}, \"field\": \"Condition\", \"type\": \"nominal\"}}, \"transform\": [{\"fold\": [\"Condition_A\", \"Condition_B\", \"Condition_C\", \"Condition_D\"], \"as\": [\"Condition\", \"Text\"]}], \"view\": {\"strokeWidth\": 1e-05}, \"width\": 300}], \"data\": {\"name\": \"data-48e68cca907ae27f3539e429469ea545\"}, \"spacing\": 0, \"title\": {\"text\": \"Title of the Plot\", \"align\": \"center\", \"anchor\": \"middle\", \"fontSize\": 20, \"offset\": 20}, \"$schema\": \"https://vega.github.io/schema/vega-lite/v5.20.1.json\", \"datasets\": {\"data-48e68cca907ae27f3539e429469ea545\": [{\"Titer\": 1000, \"Virus\": \"Virus A\", \"Facet\": \"Facet A\", \"Condition_A\": \"+\", \"Condition_B\": \"-\", \"Condition_C\": \"-\", \"Condition_D\": \"-\", \"ID\": \"A\"}, {\"Titer\": 10000, \"Virus\": \"Virus A\", \"Facet\": \"Facet A\", \"Condition_A\": \"+\", \"Condition_B\": \"+\", \"Condition_C\": \"-\", \"Condition_D\": \"-\", \"ID\": \"A_B\"}, {\"Titer\": 100000, \"Virus\": \"Virus A\", \"Facet\": \"Facet A\", \"Condition_A\": \"+\", \"Condition_B\": \"+\", \"Condition_C\": \"-\", \"Condition_D\": \"+\", \"ID\": \"A_B_D\"}, {\"Titer\": 500000, \"Virus\": \"Virus A\", \"Facet\": \"Facet A\", \"Condition_A\": \"+\", \"Condition_B\": \"+\", \"Condition_C\": \"+\", \"Condition_D\": \"-\", \"ID\": \"A_B_C\"}, {\"Titer\": 500, \"Virus\": \"Virus B\", \"Facet\": \"Facet A\", \"Condition_A\": \"+\", \"Condition_B\": \"-\", \"Condition_C\": \"-\", \"Condition_D\": \"-\", \"ID\": \"A\"}, {\"Titer\": 15000, \"Virus\": \"Virus B\", \"Facet\": \"Facet A\", \"Condition_A\": \"+\", \"Condition_B\": \"+\", \"Condition_C\": \"-\", \"Condition_D\": \"-\", \"ID\": \"A_B\"}, {\"Titer\": 150000, \"Virus\": \"Virus B\", \"Facet\": \"Facet A\", \"Condition_A\": \"+\", \"Condition_B\": \"+\", \"Condition_C\": \"-\", \"Condition_D\": \"+\", \"ID\": \"A_B_D\"}, {\"Titer\": 1000000, \"Virus\": \"Virus B\", \"Facet\": \"Facet A\", \"Condition_A\": \"+\", \"Condition_B\": \"+\", \"Condition_C\": \"+\", \"Condition_D\": \"-\", \"ID\": \"A_B_C\"}, {\"Titer\": 700, \"Virus\": \"Virus C\", \"Facet\": \"Facet A\", \"Condition_A\": \"+\", \"Condition_B\": \"-\", \"Condition_C\": \"-\", \"Condition_D\": \"-\", \"ID\": \"A\"}, {\"Titer\": 5000, \"Virus\": \"Virus C\", \"Facet\": \"Facet A\", \"Condition_A\": \"+\", \"Condition_B\": \"+\", \"Condition_C\": \"-\", \"Condition_D\": \"-\", \"ID\": \"A_B\"}, {\"Titer\": 300000, \"Virus\": \"Virus C\", \"Facet\": \"Facet A\", \"Condition_A\": \"+\", \"Condition_B\": \"+\", \"Condition_C\": \"-\", \"Condition_D\": \"+\", \"ID\": \"A_B_D\"}, {\"Titer\": 100000, \"Virus\": \"Virus C\", \"Facet\": \"Facet A\", \"Condition_A\": \"+\", \"Condition_B\": \"+\", \"Condition_C\": \"+\", \"Condition_D\": \"-\", \"ID\": \"A_B_C\"}, {\"Titer\": 1750, \"Virus\": \"Virus A\", \"Facet\": \"Facet B\", \"Condition_A\": \"+\", \"Condition_B\": \"-\", \"Condition_C\": \"-\", \"Condition_D\": \"-\", \"ID\": \"A\"}, {\"Titer\": 9500, \"Virus\": \"Virus A\", \"Facet\": \"Facet B\", \"Condition_A\": \"+\", \"Condition_B\": \"+\", \"Condition_C\": \"-\", \"Condition_D\": \"-\", \"ID\": \"A_B\"}, {\"Titer\": 123000, \"Virus\": \"Virus A\", \"Facet\": \"Facet B\", \"Condition_A\": \"+\", \"Condition_B\": \"+\", \"Condition_C\": \"-\", \"Condition_D\": \"+\", \"ID\": \"A_B_D\"}, {\"Titer\": 200000, \"Virus\": \"Virus A\", \"Facet\": \"Facet B\", \"Condition_A\": \"+\", \"Condition_B\": \"+\", \"Condition_C\": \"+\", \"Condition_D\": \"-\", \"ID\": \"A_B_C\"}, {\"Titer\": 640, \"Virus\": \"Virus B\", \"Facet\": \"Facet B\", \"Condition_A\": \"+\", \"Condition_B\": \"-\", \"Condition_C\": \"-\", \"Condition_D\": \"-\", \"ID\": \"A\"}, {\"Titer\": 9000, \"Virus\": \"Virus B\", \"Facet\": \"Facet B\", \"Condition_A\": \"+\", \"Condition_B\": \"+\", \"Condition_C\": \"-\", \"Condition_D\": \"-\", \"ID\": \"A_B\"}, {\"Titer\": 320000, \"Virus\": \"Virus B\", \"Facet\": \"Facet B\", \"Condition_A\": \"+\", \"Condition_B\": \"+\", \"Condition_C\": \"-\", \"Condition_D\": \"+\", \"ID\": \"A_B_D\"}, {\"Titer\": 1700000, \"Virus\": \"Virus B\", \"Facet\": \"Facet B\", \"Condition_A\": \"+\", \"Condition_B\": \"+\", \"Condition_C\": \"+\", \"Condition_D\": \"-\", \"ID\": \"A_B_C\"}, {\"Titer\": 200, \"Virus\": \"Virus C\", \"Facet\": \"Facet B\", \"Condition_A\": \"+\", \"Condition_B\": \"-\", \"Condition_C\": \"-\", \"Condition_D\": \"-\", \"ID\": \"A\"}, {\"Titer\": 9500, \"Virus\": \"Virus C\", \"Facet\": \"Facet B\", \"Condition_A\": \"+\", \"Condition_B\": \"+\", \"Condition_C\": \"-\", \"Condition_D\": \"-\", \"ID\": \"A_B\"}, {\"Titer\": 305000, \"Virus\": \"Virus C\", \"Facet\": \"Facet B\", \"Condition_A\": \"+\", \"Condition_B\": \"+\", \"Condition_C\": \"-\", \"Condition_D\": \"+\", \"ID\": \"A_B_D\"}, {\"Titer\": 130000, \"Virus\": \"Virus C\", \"Facet\": \"Facet B\", \"Condition_A\": \"+\", \"Condition_B\": \"+\", \"Condition_C\": \"+\", \"Condition_D\": \"-\", \"ID\": \"A_B_C\"}, {\"Titer\": 550, \"Virus\": \"Virus A\", \"Facet\": \"Facet C\", \"Condition_A\": \"+\", \"Condition_B\": \"-\", \"Condition_C\": \"-\", \"Condition_D\": \"-\", \"ID\": \"A\"}, {\"Titer\": 9500, \"Virus\": \"Virus A\", \"Facet\": \"Facet C\", \"Condition_A\": \"+\", \"Condition_B\": \"+\", \"Condition_C\": \"-\", \"Condition_D\": \"-\", \"ID\": \"A_B\"}, {\"Titer\": 120000, \"Virus\": \"Virus A\", \"Facet\": \"Facet C\", \"Condition_A\": \"+\", \"Condition_B\": \"+\", \"Condition_C\": \"-\", \"Condition_D\": \"+\", \"ID\": \"A_B_D\"}, {\"Titer\": 400000, \"Virus\": \"Virus A\", \"Facet\": \"Facet C\", \"Condition_A\": \"+\", \"Condition_B\": \"+\", \"Condition_C\": \"+\", \"Condition_D\": \"-\", \"ID\": \"A_B_C\"}, {\"Titer\": 600, \"Virus\": \"Virus B\", \"Facet\": \"Facet C\", \"Condition_A\": \"+\", \"Condition_B\": \"-\", \"Condition_C\": \"-\", \"Condition_D\": \"-\", \"ID\": \"A\"}, {\"Titer\": 18000, \"Virus\": \"Virus B\", \"Facet\": \"Facet C\", \"Condition_A\": \"+\", \"Condition_B\": \"+\", \"Condition_C\": \"-\", \"Condition_D\": \"-\", \"ID\": \"A_B\"}, {\"Titer\": 200000, \"Virus\": \"Virus B\", \"Facet\": \"Facet C\", \"Condition_A\": \"+\", \"Condition_B\": \"+\", \"Condition_C\": \"-\", \"Condition_D\": \"+\", \"ID\": \"A_B_D\"}, {\"Titer\": 1300000, \"Virus\": \"Virus B\", \"Facet\": \"Facet C\", \"Condition_A\": \"+\", \"Condition_B\": \"+\", \"Condition_C\": \"+\", \"Condition_D\": \"-\", \"ID\": \"A_B_C\"}, {\"Titer\": 400, \"Virus\": \"Virus C\", \"Facet\": \"Facet C\", \"Condition_A\": \"+\", \"Condition_B\": \"-\", \"Condition_C\": \"-\", \"Condition_D\": \"-\", \"ID\": \"A\"}, {\"Titer\": 5500, \"Virus\": \"Virus C\", \"Facet\": \"Facet C\", \"Condition_A\": \"+\", \"Condition_B\": \"+\", \"Condition_C\": \"-\", \"Condition_D\": \"-\", \"ID\": \"A_B\"}, {\"Titer\": 305000, \"Virus\": \"Virus C\", \"Facet\": \"Facet C\", \"Condition_A\": \"+\", \"Condition_B\": \"+\", \"Condition_C\": \"-\", \"Condition_D\": \"+\", \"ID\": \"A_B_D\"}, {\"Titer\": 130000, \"Virus\": \"Virus C\", \"Facet\": \"Facet C\", \"Condition_A\": \"+\", \"Condition_B\": \"+\", \"Condition_C\": \"+\", \"Condition_D\": \"-\", \"ID\": \"A_B_C\"}]}}, {\"mode\": \"vega-lite\"});\n",
       "</script>"
      ],
      "text/plain": [
       "alt.VConcatChart(...)"
      ]
     },
     "execution_count": 9,
     "metadata": {},
     "output_type": "execute_result"
    }
   ],
   "source": [
    "plot_titers(\n",
    "    data,\n",
    "    titer_col=\"Titer\",\n",
    "    condition_cols=[\"Condition_A\", \"Condition_B\", \"Condition_C\", \"Condition_D\"],\n",
    "    facet_col=\"Facet\",\n",
    "    color_col=\"Virus\",\n",
    "    title=\"Title of the Plot\", # Custom plot title, None by default\n",
    "    show_facet_title=False, # Whether to show the facet titles, True by default\n",
    "    y_axis_label=\"Titer\", # Custom y-axis label, 'Titer (IU/ml)' by default\n",
    ")"
   ]
  },
  {
   "cell_type": "markdown",
   "metadata": {},
   "source": [
    "You can also configure the size of the plot and the appearance of its marks with the folloing arguments:"
   ]
  },
  {
   "cell_type": "code",
   "execution_count": 10,
   "metadata": {
    "execution": {
     "iopub.execute_input": "2025-03-20T18:18:54.208569Z",
     "iopub.status.busy": "2025-03-20T18:18:54.208461Z",
     "iopub.status.idle": "2025-03-20T18:18:54.232900Z",
     "shell.execute_reply": "2025-03-20T18:18:54.232645Z"
    }
   },
   "outputs": [
    {
     "data": {
      "text/html": [
       "\n",
       "<style>\n",
       "  #altair-viz-1fbdf633850e405e947a1278c7df8fa5.vega-embed {\n",
       "    width: 100%;\n",
       "    display: flex;\n",
       "  }\n",
       "\n",
       "  #altair-viz-1fbdf633850e405e947a1278c7df8fa5.vega-embed details,\n",
       "  #altair-viz-1fbdf633850e405e947a1278c7df8fa5.vega-embed details summary {\n",
       "    position: relative;\n",
       "  }\n",
       "</style>\n",
       "<div id=\"altair-viz-1fbdf633850e405e947a1278c7df8fa5\"></div>\n",
       "<script type=\"text/javascript\">\n",
       "  var VEGA_DEBUG = (typeof VEGA_DEBUG == \"undefined\") ? {} : VEGA_DEBUG;\n",
       "  (function(spec, embedOpt){\n",
       "    let outputDiv = document.currentScript.previousElementSibling;\n",
       "    if (outputDiv.id !== \"altair-viz-1fbdf633850e405e947a1278c7df8fa5\") {\n",
       "      outputDiv = document.getElementById(\"altair-viz-1fbdf633850e405e947a1278c7df8fa5\");\n",
       "    }\n",
       "\n",
       "    const paths = {\n",
       "      \"vega\": \"https://cdn.jsdelivr.net/npm/vega@5?noext\",\n",
       "      \"vega-lib\": \"https://cdn.jsdelivr.net/npm/vega-lib?noext\",\n",
       "      \"vega-lite\": \"https://cdn.jsdelivr.net/npm/vega-lite@5.20.1?noext\",\n",
       "      \"vega-embed\": \"https://cdn.jsdelivr.net/npm/vega-embed@6?noext\",\n",
       "    };\n",
       "\n",
       "    function maybeLoadScript(lib, version) {\n",
       "      var key = `${lib.replace(\"-\", \"\")}_version`;\n",
       "      return (VEGA_DEBUG[key] == version) ?\n",
       "        Promise.resolve(paths[lib]) :\n",
       "        new Promise(function(resolve, reject) {\n",
       "          var s = document.createElement('script');\n",
       "          document.getElementsByTagName(\"head\")[0].appendChild(s);\n",
       "          s.async = true;\n",
       "          s.onload = () => {\n",
       "            VEGA_DEBUG[key] = version;\n",
       "            return resolve(paths[lib]);\n",
       "          };\n",
       "          s.onerror = () => reject(`Error loading script: ${paths[lib]}`);\n",
       "          s.src = paths[lib];\n",
       "        });\n",
       "    }\n",
       "\n",
       "    function showError(err) {\n",
       "      outputDiv.innerHTML = `<div class=\"error\" style=\"color:red;\">${err}</div>`;\n",
       "      throw err;\n",
       "    }\n",
       "\n",
       "    function displayChart(vegaEmbed) {\n",
       "      vegaEmbed(outputDiv, spec, embedOpt)\n",
       "        .catch(err => showError(`Javascript Error: ${err.message}<br>This usually means there's a typo in your chart specification. See the javascript console for the full traceback.`));\n",
       "    }\n",
       "\n",
       "    if(typeof define === \"function\" && define.amd) {\n",
       "      requirejs.config({paths});\n",
       "      let deps = [\"vega-embed\"];\n",
       "      require(deps, displayChart, err => showError(`Error loading script: ${err.message}`));\n",
       "    } else {\n",
       "      maybeLoadScript(\"vega\", \"5\")\n",
       "        .then(() => maybeLoadScript(\"vega-lite\", \"5.20.1\"))\n",
       "        .then(() => maybeLoadScript(\"vega-embed\", \"6\"))\n",
       "        .catch(showError)\n",
       "        .then(() => displayChart(vegaEmbed));\n",
       "    }\n",
       "  })({\"config\": {\"view\": {\"continuousWidth\": 300, \"continuousHeight\": 300}}, \"vconcat\": [{\"mark\": {\"type\": \"point\", \"filled\": false, \"size\": 150}, \"encoding\": {\"color\": {\"field\": \"Virus\", \"legend\": {\"labelFontSize\": 14, \"title\": \"Virus\", \"titleFontSize\": 16}, \"type\": \"nominal\"}, \"column\": {\"field\": \"Facet\", \"header\": {\"labelFontSize\": 16, \"labels\": true, \"title\": null}, \"type\": \"nominal\"}, \"tooltip\": [{\"field\": \"Titer\", \"type\": \"quantitative\"}, {\"field\": \"Virus\", \"type\": \"nominal\"}, {\"field\": \"Facet\", \"type\": \"nominal\"}, {\"field\": \"Condition_A\", \"type\": \"nominal\"}, {\"field\": \"Condition_B\", \"type\": \"nominal\"}, {\"field\": \"Condition_C\", \"type\": \"nominal\"}, {\"field\": \"Condition_D\", \"type\": \"nominal\"}], \"x\": {\"axis\": {\"domain\": false, \"grid\": false, \"labelFontSize\": 14, \"labels\": false, \"ticks\": true, \"title\": null}, \"field\": \"ID\", \"type\": \"nominal\"}, \"y\": {\"axis\": {\"labelFontSize\": 14, \"titleFontSize\": 16}, \"field\": \"Titer\", \"scale\": {\"type\": \"log\"}, \"title\": \"Titer (IU/ml)\", \"type\": \"quantitative\"}}, \"width\": 150}, {\"mark\": {\"type\": \"text\", \"size\": 20}, \"encoding\": {\"column\": {\"field\": \"Facet\", \"header\": {\"labels\": false, \"title\": null}, \"type\": \"nominal\"}, \"text\": {\"field\": \"Text\", \"type\": \"nominal\"}, \"x\": {\"axis\": null, \"field\": \"ID\", \"type\": \"nominal\"}, \"y\": {\"axis\": {\"domain\": false, \"grid\": false, \"labelFontSize\": 14, \"ticks\": false, \"title\": null}, \"field\": \"Condition\", \"type\": \"nominal\"}}, \"transform\": [{\"fold\": [\"Condition_A\", \"Condition_B\", \"Condition_C\", \"Condition_D\"], \"as\": [\"Condition\", \"Text\"]}], \"view\": {\"strokeWidth\": 1e-05}, \"width\": 150}], \"data\": {\"name\": \"data-48e68cca907ae27f3539e429469ea545\"}, \"spacing\": 0, \"title\": {\"text\": \"\", \"align\": \"center\", \"anchor\": \"middle\", \"fontSize\": 20, \"offset\": 20}, \"$schema\": \"https://vega.github.io/schema/vega-lite/v5.20.1.json\", \"datasets\": {\"data-48e68cca907ae27f3539e429469ea545\": [{\"Titer\": 1000, \"Virus\": \"Virus A\", \"Facet\": \"Facet A\", \"Condition_A\": \"+\", \"Condition_B\": \"-\", \"Condition_C\": \"-\", \"Condition_D\": \"-\", \"ID\": \"A\"}, {\"Titer\": 10000, \"Virus\": \"Virus A\", \"Facet\": \"Facet A\", \"Condition_A\": \"+\", \"Condition_B\": \"+\", \"Condition_C\": \"-\", \"Condition_D\": \"-\", \"ID\": \"A_B\"}, {\"Titer\": 100000, \"Virus\": \"Virus A\", \"Facet\": \"Facet A\", \"Condition_A\": \"+\", \"Condition_B\": \"+\", \"Condition_C\": \"-\", \"Condition_D\": \"+\", \"ID\": \"A_B_D\"}, {\"Titer\": 500000, \"Virus\": \"Virus A\", \"Facet\": \"Facet A\", \"Condition_A\": \"+\", \"Condition_B\": \"+\", \"Condition_C\": \"+\", \"Condition_D\": \"-\", \"ID\": \"A_B_C\"}, {\"Titer\": 500, \"Virus\": \"Virus B\", \"Facet\": \"Facet A\", \"Condition_A\": \"+\", \"Condition_B\": \"-\", \"Condition_C\": \"-\", \"Condition_D\": \"-\", \"ID\": \"A\"}, {\"Titer\": 15000, \"Virus\": \"Virus B\", \"Facet\": \"Facet A\", \"Condition_A\": \"+\", \"Condition_B\": \"+\", \"Condition_C\": \"-\", \"Condition_D\": \"-\", \"ID\": \"A_B\"}, {\"Titer\": 150000, \"Virus\": \"Virus B\", \"Facet\": \"Facet A\", \"Condition_A\": \"+\", \"Condition_B\": \"+\", \"Condition_C\": \"-\", \"Condition_D\": \"+\", \"ID\": \"A_B_D\"}, {\"Titer\": 1000000, \"Virus\": \"Virus B\", \"Facet\": \"Facet A\", \"Condition_A\": \"+\", \"Condition_B\": \"+\", \"Condition_C\": \"+\", \"Condition_D\": \"-\", \"ID\": \"A_B_C\"}, {\"Titer\": 700, \"Virus\": \"Virus C\", \"Facet\": \"Facet A\", \"Condition_A\": \"+\", \"Condition_B\": \"-\", \"Condition_C\": \"-\", \"Condition_D\": \"-\", \"ID\": \"A\"}, {\"Titer\": 5000, \"Virus\": \"Virus C\", \"Facet\": \"Facet A\", \"Condition_A\": \"+\", \"Condition_B\": \"+\", \"Condition_C\": \"-\", \"Condition_D\": \"-\", \"ID\": \"A_B\"}, {\"Titer\": 300000, \"Virus\": \"Virus C\", \"Facet\": \"Facet A\", \"Condition_A\": \"+\", \"Condition_B\": \"+\", \"Condition_C\": \"-\", \"Condition_D\": \"+\", \"ID\": \"A_B_D\"}, {\"Titer\": 100000, \"Virus\": \"Virus C\", \"Facet\": \"Facet A\", \"Condition_A\": \"+\", \"Condition_B\": \"+\", \"Condition_C\": \"+\", \"Condition_D\": \"-\", \"ID\": \"A_B_C\"}, {\"Titer\": 1750, \"Virus\": \"Virus A\", \"Facet\": \"Facet B\", \"Condition_A\": \"+\", \"Condition_B\": \"-\", \"Condition_C\": \"-\", \"Condition_D\": \"-\", \"ID\": \"A\"}, {\"Titer\": 9500, \"Virus\": \"Virus A\", \"Facet\": \"Facet B\", \"Condition_A\": \"+\", \"Condition_B\": \"+\", \"Condition_C\": \"-\", \"Condition_D\": \"-\", \"ID\": \"A_B\"}, {\"Titer\": 123000, \"Virus\": \"Virus A\", \"Facet\": \"Facet B\", \"Condition_A\": \"+\", \"Condition_B\": \"+\", \"Condition_C\": \"-\", \"Condition_D\": \"+\", \"ID\": \"A_B_D\"}, {\"Titer\": 200000, \"Virus\": \"Virus A\", \"Facet\": \"Facet B\", \"Condition_A\": \"+\", \"Condition_B\": \"+\", \"Condition_C\": \"+\", \"Condition_D\": \"-\", \"ID\": \"A_B_C\"}, {\"Titer\": 640, \"Virus\": \"Virus B\", \"Facet\": \"Facet B\", \"Condition_A\": \"+\", \"Condition_B\": \"-\", \"Condition_C\": \"-\", \"Condition_D\": \"-\", \"ID\": \"A\"}, {\"Titer\": 9000, \"Virus\": \"Virus B\", \"Facet\": \"Facet B\", \"Condition_A\": \"+\", \"Condition_B\": \"+\", \"Condition_C\": \"-\", \"Condition_D\": \"-\", \"ID\": \"A_B\"}, {\"Titer\": 320000, \"Virus\": \"Virus B\", \"Facet\": \"Facet B\", \"Condition_A\": \"+\", \"Condition_B\": \"+\", \"Condition_C\": \"-\", \"Condition_D\": \"+\", \"ID\": \"A_B_D\"}, {\"Titer\": 1700000, \"Virus\": \"Virus B\", \"Facet\": \"Facet B\", \"Condition_A\": \"+\", \"Condition_B\": \"+\", \"Condition_C\": \"+\", \"Condition_D\": \"-\", \"ID\": \"A_B_C\"}, {\"Titer\": 200, \"Virus\": \"Virus C\", \"Facet\": \"Facet B\", \"Condition_A\": \"+\", \"Condition_B\": \"-\", \"Condition_C\": \"-\", \"Condition_D\": \"-\", \"ID\": \"A\"}, {\"Titer\": 9500, \"Virus\": \"Virus C\", \"Facet\": \"Facet B\", \"Condition_A\": \"+\", \"Condition_B\": \"+\", \"Condition_C\": \"-\", \"Condition_D\": \"-\", \"ID\": \"A_B\"}, {\"Titer\": 305000, \"Virus\": \"Virus C\", \"Facet\": \"Facet B\", \"Condition_A\": \"+\", \"Condition_B\": \"+\", \"Condition_C\": \"-\", \"Condition_D\": \"+\", \"ID\": \"A_B_D\"}, {\"Titer\": 130000, \"Virus\": \"Virus C\", \"Facet\": \"Facet B\", \"Condition_A\": \"+\", \"Condition_B\": \"+\", \"Condition_C\": \"+\", \"Condition_D\": \"-\", \"ID\": \"A_B_C\"}, {\"Titer\": 550, \"Virus\": \"Virus A\", \"Facet\": \"Facet C\", \"Condition_A\": \"+\", \"Condition_B\": \"-\", \"Condition_C\": \"-\", \"Condition_D\": \"-\", \"ID\": \"A\"}, {\"Titer\": 9500, \"Virus\": \"Virus A\", \"Facet\": \"Facet C\", \"Condition_A\": \"+\", \"Condition_B\": \"+\", \"Condition_C\": \"-\", \"Condition_D\": \"-\", \"ID\": \"A_B\"}, {\"Titer\": 120000, \"Virus\": \"Virus A\", \"Facet\": \"Facet C\", \"Condition_A\": \"+\", \"Condition_B\": \"+\", \"Condition_C\": \"-\", \"Condition_D\": \"+\", \"ID\": \"A_B_D\"}, {\"Titer\": 400000, \"Virus\": \"Virus A\", \"Facet\": \"Facet C\", \"Condition_A\": \"+\", \"Condition_B\": \"+\", \"Condition_C\": \"+\", \"Condition_D\": \"-\", \"ID\": \"A_B_C\"}, {\"Titer\": 600, \"Virus\": \"Virus B\", \"Facet\": \"Facet C\", \"Condition_A\": \"+\", \"Condition_B\": \"-\", \"Condition_C\": \"-\", \"Condition_D\": \"-\", \"ID\": \"A\"}, {\"Titer\": 18000, \"Virus\": \"Virus B\", \"Facet\": \"Facet C\", \"Condition_A\": \"+\", \"Condition_B\": \"+\", \"Condition_C\": \"-\", \"Condition_D\": \"-\", \"ID\": \"A_B\"}, {\"Titer\": 200000, \"Virus\": \"Virus B\", \"Facet\": \"Facet C\", \"Condition_A\": \"+\", \"Condition_B\": \"+\", \"Condition_C\": \"-\", \"Condition_D\": \"+\", \"ID\": \"A_B_D\"}, {\"Titer\": 1300000, \"Virus\": \"Virus B\", \"Facet\": \"Facet C\", \"Condition_A\": \"+\", \"Condition_B\": \"+\", \"Condition_C\": \"+\", \"Condition_D\": \"-\", \"ID\": \"A_B_C\"}, {\"Titer\": 400, \"Virus\": \"Virus C\", \"Facet\": \"Facet C\", \"Condition_A\": \"+\", \"Condition_B\": \"-\", \"Condition_C\": \"-\", \"Condition_D\": \"-\", \"ID\": \"A\"}, {\"Titer\": 5500, \"Virus\": \"Virus C\", \"Facet\": \"Facet C\", \"Condition_A\": \"+\", \"Condition_B\": \"+\", \"Condition_C\": \"-\", \"Condition_D\": \"-\", \"ID\": \"A_B\"}, {\"Titer\": 305000, \"Virus\": \"Virus C\", \"Facet\": \"Facet C\", \"Condition_A\": \"+\", \"Condition_B\": \"+\", \"Condition_C\": \"-\", \"Condition_D\": \"+\", \"ID\": \"A_B_D\"}, {\"Titer\": 130000, \"Virus\": \"Virus C\", \"Facet\": \"Facet C\", \"Condition_A\": \"+\", \"Condition_B\": \"+\", \"Condition_C\": \"+\", \"Condition_D\": \"-\", \"ID\": \"A_B_C\"}]}}, {\"mode\": \"vega-lite\"});\n",
       "</script>"
      ],
      "text/plain": [
       "alt.VConcatChart(...)"
      ]
     },
     "execution_count": 10,
     "metadata": {},
     "output_type": "execute_result"
    }
   ],
   "source": [
    "plot_titers(\n",
    "    data,\n",
    "    titer_col=\"Titer\",\n",
    "    condition_cols=[\"Condition_A\", \"Condition_B\", \"Condition_C\", \"Condition_D\"],\n",
    "    facet_col=\"Facet\",\n",
    "    color_col=\"Virus\",\n",
    "    width=150, # Width of the plot in pixels, 300 by default\n",
    "    point_size=150, # Size of the points, 100 by default\n",
    "    filled=False, # Whether to fill the points, True by default\n",
    "    text_size=20, # Size of +/- text, 15 by default\n",
    ")"
   ]
  },
  {
   "cell_type": "markdown",
   "metadata": {},
   "source": [
    "Finally, you can configure the font size of the text axes with the following arguments:"
   ]
  },
  {
   "cell_type": "code",
   "execution_count": 11,
   "metadata": {
    "execution": {
     "iopub.execute_input": "2025-03-20T18:18:54.233983Z",
     "iopub.status.busy": "2025-03-20T18:18:54.233912Z",
     "iopub.status.idle": "2025-03-20T18:18:54.258524Z",
     "shell.execute_reply": "2025-03-20T18:18:54.258295Z"
    }
   },
   "outputs": [
    {
     "data": {
      "text/html": [
       "\n",
       "<style>\n",
       "  #altair-viz-31fe23e678da41e8ab81a5b99dc5f90f.vega-embed {\n",
       "    width: 100%;\n",
       "    display: flex;\n",
       "  }\n",
       "\n",
       "  #altair-viz-31fe23e678da41e8ab81a5b99dc5f90f.vega-embed details,\n",
       "  #altair-viz-31fe23e678da41e8ab81a5b99dc5f90f.vega-embed details summary {\n",
       "    position: relative;\n",
       "  }\n",
       "</style>\n",
       "<div id=\"altair-viz-31fe23e678da41e8ab81a5b99dc5f90f\"></div>\n",
       "<script type=\"text/javascript\">\n",
       "  var VEGA_DEBUG = (typeof VEGA_DEBUG == \"undefined\") ? {} : VEGA_DEBUG;\n",
       "  (function(spec, embedOpt){\n",
       "    let outputDiv = document.currentScript.previousElementSibling;\n",
       "    if (outputDiv.id !== \"altair-viz-31fe23e678da41e8ab81a5b99dc5f90f\") {\n",
       "      outputDiv = document.getElementById(\"altair-viz-31fe23e678da41e8ab81a5b99dc5f90f\");\n",
       "    }\n",
       "\n",
       "    const paths = {\n",
       "      \"vega\": \"https://cdn.jsdelivr.net/npm/vega@5?noext\",\n",
       "      \"vega-lib\": \"https://cdn.jsdelivr.net/npm/vega-lib?noext\",\n",
       "      \"vega-lite\": \"https://cdn.jsdelivr.net/npm/vega-lite@5.20.1?noext\",\n",
       "      \"vega-embed\": \"https://cdn.jsdelivr.net/npm/vega-embed@6?noext\",\n",
       "    };\n",
       "\n",
       "    function maybeLoadScript(lib, version) {\n",
       "      var key = `${lib.replace(\"-\", \"\")}_version`;\n",
       "      return (VEGA_DEBUG[key] == version) ?\n",
       "        Promise.resolve(paths[lib]) :\n",
       "        new Promise(function(resolve, reject) {\n",
       "          var s = document.createElement('script');\n",
       "          document.getElementsByTagName(\"head\")[0].appendChild(s);\n",
       "          s.async = true;\n",
       "          s.onload = () => {\n",
       "            VEGA_DEBUG[key] = version;\n",
       "            return resolve(paths[lib]);\n",
       "          };\n",
       "          s.onerror = () => reject(`Error loading script: ${paths[lib]}`);\n",
       "          s.src = paths[lib];\n",
       "        });\n",
       "    }\n",
       "\n",
       "    function showError(err) {\n",
       "      outputDiv.innerHTML = `<div class=\"error\" style=\"color:red;\">${err}</div>`;\n",
       "      throw err;\n",
       "    }\n",
       "\n",
       "    function displayChart(vegaEmbed) {\n",
       "      vegaEmbed(outputDiv, spec, embedOpt)\n",
       "        .catch(err => showError(`Javascript Error: ${err.message}<br>This usually means there's a typo in your chart specification. See the javascript console for the full traceback.`));\n",
       "    }\n",
       "\n",
       "    if(typeof define === \"function\" && define.amd) {\n",
       "      requirejs.config({paths});\n",
       "      let deps = [\"vega-embed\"];\n",
       "      require(deps, displayChart, err => showError(`Error loading script: ${err.message}`));\n",
       "    } else {\n",
       "      maybeLoadScript(\"vega\", \"5\")\n",
       "        .then(() => maybeLoadScript(\"vega-lite\", \"5.20.1\"))\n",
       "        .then(() => maybeLoadScript(\"vega-embed\", \"6\"))\n",
       "        .catch(showError)\n",
       "        .then(() => displayChart(vegaEmbed));\n",
       "    }\n",
       "  })({\"config\": {\"view\": {\"continuousWidth\": 300, \"continuousHeight\": 300}}, \"vconcat\": [{\"mark\": {\"type\": \"point\", \"filled\": true, \"size\": 100}, \"encoding\": {\"color\": {\"field\": \"Virus\", \"legend\": {\"labelFontSize\": 12, \"title\": \"Virus\", \"titleFontSize\": 15}, \"type\": \"nominal\"}, \"column\": {\"field\": \"Facet\", \"header\": {\"labelFontSize\": 12, \"labels\": true, \"title\": null}, \"type\": \"nominal\"}, \"tooltip\": [{\"field\": \"Titer\", \"type\": \"quantitative\"}, {\"field\": \"Virus\", \"type\": \"nominal\"}, {\"field\": \"Facet\", \"type\": \"nominal\"}, {\"field\": \"Condition_A\", \"type\": \"nominal\"}, {\"field\": \"Condition_B\", \"type\": \"nominal\"}, {\"field\": \"Condition_C\", \"type\": \"nominal\"}, {\"field\": \"Condition_D\", \"type\": \"nominal\"}], \"x\": {\"axis\": {\"domain\": false, \"grid\": false, \"labelFontSize\": 12, \"labels\": false, \"ticks\": true, \"title\": null}, \"field\": \"ID\", \"type\": \"nominal\"}, \"y\": {\"axis\": {\"labelFontSize\": 12, \"titleFontSize\": 15}, \"field\": \"Titer\", \"scale\": {\"type\": \"log\"}, \"title\": \"Titer (IU/ml)\", \"type\": \"quantitative\"}}, \"width\": 300}, {\"mark\": {\"type\": \"text\", \"size\": 15}, \"encoding\": {\"column\": {\"field\": \"Facet\", \"header\": {\"labels\": false, \"title\": null}, \"type\": \"nominal\"}, \"text\": {\"field\": \"Text\", \"type\": \"nominal\"}, \"x\": {\"axis\": null, \"field\": \"ID\", \"type\": \"nominal\"}, \"y\": {\"axis\": {\"domain\": false, \"grid\": false, \"labelFontSize\": 12, \"ticks\": false, \"title\": null}, \"field\": \"Condition\", \"type\": \"nominal\"}}, \"transform\": [{\"fold\": [\"Condition_A\", \"Condition_B\", \"Condition_C\", \"Condition_D\"], \"as\": [\"Condition\", \"Text\"]}], \"view\": {\"strokeWidth\": 1e-05}, \"width\": 300}], \"data\": {\"name\": \"data-48e68cca907ae27f3539e429469ea545\"}, \"spacing\": 0, \"title\": {\"text\": \"Title of the Plot\", \"align\": \"center\", \"anchor\": \"middle\", \"fontSize\": 15, \"offset\": 20}, \"$schema\": \"https://vega.github.io/schema/vega-lite/v5.20.1.json\", \"datasets\": {\"data-48e68cca907ae27f3539e429469ea545\": [{\"Titer\": 1000, \"Virus\": \"Virus A\", \"Facet\": \"Facet A\", \"Condition_A\": \"+\", \"Condition_B\": \"-\", \"Condition_C\": \"-\", \"Condition_D\": \"-\", \"ID\": \"A\"}, {\"Titer\": 10000, \"Virus\": \"Virus A\", \"Facet\": \"Facet A\", \"Condition_A\": \"+\", \"Condition_B\": \"+\", \"Condition_C\": \"-\", \"Condition_D\": \"-\", \"ID\": \"A_B\"}, {\"Titer\": 100000, \"Virus\": \"Virus A\", \"Facet\": \"Facet A\", \"Condition_A\": \"+\", \"Condition_B\": \"+\", \"Condition_C\": \"-\", \"Condition_D\": \"+\", \"ID\": \"A_B_D\"}, {\"Titer\": 500000, \"Virus\": \"Virus A\", \"Facet\": \"Facet A\", \"Condition_A\": \"+\", \"Condition_B\": \"+\", \"Condition_C\": \"+\", \"Condition_D\": \"-\", \"ID\": \"A_B_C\"}, {\"Titer\": 500, \"Virus\": \"Virus B\", \"Facet\": \"Facet A\", \"Condition_A\": \"+\", \"Condition_B\": \"-\", \"Condition_C\": \"-\", \"Condition_D\": \"-\", \"ID\": \"A\"}, {\"Titer\": 15000, \"Virus\": \"Virus B\", \"Facet\": \"Facet A\", \"Condition_A\": \"+\", \"Condition_B\": \"+\", \"Condition_C\": \"-\", \"Condition_D\": \"-\", \"ID\": \"A_B\"}, {\"Titer\": 150000, \"Virus\": \"Virus B\", \"Facet\": \"Facet A\", \"Condition_A\": \"+\", \"Condition_B\": \"+\", \"Condition_C\": \"-\", \"Condition_D\": \"+\", \"ID\": \"A_B_D\"}, {\"Titer\": 1000000, \"Virus\": \"Virus B\", \"Facet\": \"Facet A\", \"Condition_A\": \"+\", \"Condition_B\": \"+\", \"Condition_C\": \"+\", \"Condition_D\": \"-\", \"ID\": \"A_B_C\"}, {\"Titer\": 700, \"Virus\": \"Virus C\", \"Facet\": \"Facet A\", \"Condition_A\": \"+\", \"Condition_B\": \"-\", \"Condition_C\": \"-\", \"Condition_D\": \"-\", \"ID\": \"A\"}, {\"Titer\": 5000, \"Virus\": \"Virus C\", \"Facet\": \"Facet A\", \"Condition_A\": \"+\", \"Condition_B\": \"+\", \"Condition_C\": \"-\", \"Condition_D\": \"-\", \"ID\": \"A_B\"}, {\"Titer\": 300000, \"Virus\": \"Virus C\", \"Facet\": \"Facet A\", \"Condition_A\": \"+\", \"Condition_B\": \"+\", \"Condition_C\": \"-\", \"Condition_D\": \"+\", \"ID\": \"A_B_D\"}, {\"Titer\": 100000, \"Virus\": \"Virus C\", \"Facet\": \"Facet A\", \"Condition_A\": \"+\", \"Condition_B\": \"+\", \"Condition_C\": \"+\", \"Condition_D\": \"-\", \"ID\": \"A_B_C\"}, {\"Titer\": 1750, \"Virus\": \"Virus A\", \"Facet\": \"Facet B\", \"Condition_A\": \"+\", \"Condition_B\": \"-\", \"Condition_C\": \"-\", \"Condition_D\": \"-\", \"ID\": \"A\"}, {\"Titer\": 9500, \"Virus\": \"Virus A\", \"Facet\": \"Facet B\", \"Condition_A\": \"+\", \"Condition_B\": \"+\", \"Condition_C\": \"-\", \"Condition_D\": \"-\", \"ID\": \"A_B\"}, {\"Titer\": 123000, \"Virus\": \"Virus A\", \"Facet\": \"Facet B\", \"Condition_A\": \"+\", \"Condition_B\": \"+\", \"Condition_C\": \"-\", \"Condition_D\": \"+\", \"ID\": \"A_B_D\"}, {\"Titer\": 200000, \"Virus\": \"Virus A\", \"Facet\": \"Facet B\", \"Condition_A\": \"+\", \"Condition_B\": \"+\", \"Condition_C\": \"+\", \"Condition_D\": \"-\", \"ID\": \"A_B_C\"}, {\"Titer\": 640, \"Virus\": \"Virus B\", \"Facet\": \"Facet B\", \"Condition_A\": \"+\", \"Condition_B\": \"-\", \"Condition_C\": \"-\", \"Condition_D\": \"-\", \"ID\": \"A\"}, {\"Titer\": 9000, \"Virus\": \"Virus B\", \"Facet\": \"Facet B\", \"Condition_A\": \"+\", \"Condition_B\": \"+\", \"Condition_C\": \"-\", \"Condition_D\": \"-\", \"ID\": \"A_B\"}, {\"Titer\": 320000, \"Virus\": \"Virus B\", \"Facet\": \"Facet B\", \"Condition_A\": \"+\", \"Condition_B\": \"+\", \"Condition_C\": \"-\", \"Condition_D\": \"+\", \"ID\": \"A_B_D\"}, {\"Titer\": 1700000, \"Virus\": \"Virus B\", \"Facet\": \"Facet B\", \"Condition_A\": \"+\", \"Condition_B\": \"+\", \"Condition_C\": \"+\", \"Condition_D\": \"-\", \"ID\": \"A_B_C\"}, {\"Titer\": 200, \"Virus\": \"Virus C\", \"Facet\": \"Facet B\", \"Condition_A\": \"+\", \"Condition_B\": \"-\", \"Condition_C\": \"-\", \"Condition_D\": \"-\", \"ID\": \"A\"}, {\"Titer\": 9500, \"Virus\": \"Virus C\", \"Facet\": \"Facet B\", \"Condition_A\": \"+\", \"Condition_B\": \"+\", \"Condition_C\": \"-\", \"Condition_D\": \"-\", \"ID\": \"A_B\"}, {\"Titer\": 305000, \"Virus\": \"Virus C\", \"Facet\": \"Facet B\", \"Condition_A\": \"+\", \"Condition_B\": \"+\", \"Condition_C\": \"-\", \"Condition_D\": \"+\", \"ID\": \"A_B_D\"}, {\"Titer\": 130000, \"Virus\": \"Virus C\", \"Facet\": \"Facet B\", \"Condition_A\": \"+\", \"Condition_B\": \"+\", \"Condition_C\": \"+\", \"Condition_D\": \"-\", \"ID\": \"A_B_C\"}, {\"Titer\": 550, \"Virus\": \"Virus A\", \"Facet\": \"Facet C\", \"Condition_A\": \"+\", \"Condition_B\": \"-\", \"Condition_C\": \"-\", \"Condition_D\": \"-\", \"ID\": \"A\"}, {\"Titer\": 9500, \"Virus\": \"Virus A\", \"Facet\": \"Facet C\", \"Condition_A\": \"+\", \"Condition_B\": \"+\", \"Condition_C\": \"-\", \"Condition_D\": \"-\", \"ID\": \"A_B\"}, {\"Titer\": 120000, \"Virus\": \"Virus A\", \"Facet\": \"Facet C\", \"Condition_A\": \"+\", \"Condition_B\": \"+\", \"Condition_C\": \"-\", \"Condition_D\": \"+\", \"ID\": \"A_B_D\"}, {\"Titer\": 400000, \"Virus\": \"Virus A\", \"Facet\": \"Facet C\", \"Condition_A\": \"+\", \"Condition_B\": \"+\", \"Condition_C\": \"+\", \"Condition_D\": \"-\", \"ID\": \"A_B_C\"}, {\"Titer\": 600, \"Virus\": \"Virus B\", \"Facet\": \"Facet C\", \"Condition_A\": \"+\", \"Condition_B\": \"-\", \"Condition_C\": \"-\", \"Condition_D\": \"-\", \"ID\": \"A\"}, {\"Titer\": 18000, \"Virus\": \"Virus B\", \"Facet\": \"Facet C\", \"Condition_A\": \"+\", \"Condition_B\": \"+\", \"Condition_C\": \"-\", \"Condition_D\": \"-\", \"ID\": \"A_B\"}, {\"Titer\": 200000, \"Virus\": \"Virus B\", \"Facet\": \"Facet C\", \"Condition_A\": \"+\", \"Condition_B\": \"+\", \"Condition_C\": \"-\", \"Condition_D\": \"+\", \"ID\": \"A_B_D\"}, {\"Titer\": 1300000, \"Virus\": \"Virus B\", \"Facet\": \"Facet C\", \"Condition_A\": \"+\", \"Condition_B\": \"+\", \"Condition_C\": \"+\", \"Condition_D\": \"-\", \"ID\": \"A_B_C\"}, {\"Titer\": 400, \"Virus\": \"Virus C\", \"Facet\": \"Facet C\", \"Condition_A\": \"+\", \"Condition_B\": \"-\", \"Condition_C\": \"-\", \"Condition_D\": \"-\", \"ID\": \"A\"}, {\"Titer\": 5500, \"Virus\": \"Virus C\", \"Facet\": \"Facet C\", \"Condition_A\": \"+\", \"Condition_B\": \"+\", \"Condition_C\": \"-\", \"Condition_D\": \"-\", \"ID\": \"A_B\"}, {\"Titer\": 305000, \"Virus\": \"Virus C\", \"Facet\": \"Facet C\", \"Condition_A\": \"+\", \"Condition_B\": \"+\", \"Condition_C\": \"-\", \"Condition_D\": \"+\", \"ID\": \"A_B_D\"}, {\"Titer\": 130000, \"Virus\": \"Virus C\", \"Facet\": \"Facet C\", \"Condition_A\": \"+\", \"Condition_B\": \"+\", \"Condition_C\": \"+\", \"Condition_D\": \"-\", \"ID\": \"A_B_C\"}]}}, {\"mode\": \"vega-lite\"});\n",
       "</script>"
      ],
      "text/plain": [
       "alt.VConcatChart(...)"
      ]
     },
     "execution_count": 11,
     "metadata": {},
     "output_type": "execute_result"
    }
   ],
   "source": [
    "plot_titers(\n",
    "    data,\n",
    "    titer_col=\"Titer\",\n",
    "    condition_cols=[\"Condition_A\", \"Condition_B\", \"Condition_C\", \"Condition_D\"],\n",
    "    facet_col=\"Facet\",\n",
    "    color_col=\"Virus\",\n",
    "    title=\"Title of the Plot\",\n",
    "    title_size=15, # Size of the plot title, 20 by default\n",
    "    axis_title_size=15, # Size of the axis titles, 16 by default\n",
    "    axis_label_size=12, # Size of the axis labels, 14 by default\n",
    "    legend_title_size=15, # Size of the legend title, 16 by default\n",
    "    legend_label_size=12, # Size of the legend labels, 14 by default\n",
    "    facet_title_size=12, # Size of the facet titles, 16 by default\n",
    ")"
   ]
  },
  {
   "cell_type": "code",
   "execution_count": null,
   "metadata": {},
   "outputs": [],
   "source": []
  }
 ],
 "metadata": {
  "kernelspec": {
   "display_name": "titerplot",
   "language": "python",
   "name": "titerplot"
  },
  "language_info": {
   "codemirror_mode": {
    "name": "ipython",
    "version": 3
   },
   "file_extension": ".py",
   "mimetype": "text/x-python",
   "name": "python",
   "nbconvert_exporter": "python",
   "pygments_lexer": "ipython3",
   "version": "3.12.8"
  }
 },
 "nbformat": 4,
 "nbformat_minor": 2
}
